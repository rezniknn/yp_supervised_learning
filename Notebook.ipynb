{
 "cells": [
  {
   "cell_type": "markdown",
   "metadata": {
    "toc": true
   },
   "source": [
    "<h1>Содержание<span class=\"tocSkip\"></span></h1>\n",
    "<div class=\"toc\"><ul class=\"toc-item\"><li><span><a href=\"#Подготовка-данных\" data-toc-modified-id=\"Подготовка-данных-1\"><span class=\"toc-item-num\">1&nbsp;&nbsp;</span>Подготовка данных</a></span></li><li><span><a href=\"#Исследование-задачи\" data-toc-modified-id=\"Исследование-задачи-2\"><span class=\"toc-item-num\">2&nbsp;&nbsp;</span>Исследование задачи</a></span><ul class=\"toc-item\"><li><ul class=\"toc-item\"><li><span><a href=\"#Случайная-модель\" data-toc-modified-id=\"Случайная-модель-2.0.1\"><span class=\"toc-item-num\">2.0.1&nbsp;&nbsp;</span>Случайная модель</a></span></li><li><span><a href=\"#Логистическая-регрессия\" data-toc-modified-id=\"Логистическая-регрессия-2.0.2\"><span class=\"toc-item-num\">2.0.2&nbsp;&nbsp;</span>Логистическая регрессия</a></span></li><li><span><a href=\"#Дерево-решений\" data-toc-modified-id=\"Дерево-решений-2.0.3\"><span class=\"toc-item-num\">2.0.3&nbsp;&nbsp;</span>Дерево решений</a></span></li><li><span><a href=\"#Случайный-лес\" data-toc-modified-id=\"Случайный-лес-2.0.4\"><span class=\"toc-item-num\">2.0.4&nbsp;&nbsp;</span>Случайный лес</a></span></li></ul></li></ul></li><li><span><a href=\"#Борьба-с-дисбалансом\" data-toc-modified-id=\"Борьба-с-дисбалансом-3\"><span class=\"toc-item-num\">3&nbsp;&nbsp;</span>Борьба с дисбалансом</a></span><ul class=\"toc-item\"><li><ul class=\"toc-item\"><li><span><a href=\"#Балансировка-методом-взвешивания-классов\" data-toc-modified-id=\"Балансировка-методом-взвешивания-классов-3.0.1\"><span class=\"toc-item-num\">3.0.1&nbsp;&nbsp;</span>Балансировка методом взвешивания классов</a></span></li><li><span><a href=\"#Балансировка-методом-увеличения-выборки\" data-toc-modified-id=\"Балансировка-методом-увеличения-выборки-3.0.2\"><span class=\"toc-item-num\">3.0.2&nbsp;&nbsp;</span>Балансировка методом увеличения выборки</a></span></li></ul></li></ul></li><li><span><a href=\"#Тестирование-модели\" data-toc-modified-id=\"Тестирование-модели-4\"><span class=\"toc-item-num\">4&nbsp;&nbsp;</span>Тестирование модели</a></span></li><li><span><a href=\"#Выводы\" data-toc-modified-id=\"Выводы-5\"><span class=\"toc-item-num\">5&nbsp;&nbsp;</span>Выводы</a></span></li><li><span><a href=\"#Чек-лист-готовности-проекта\" data-toc-modified-id=\"Чек-лист-готовности-проекта-6\"><span class=\"toc-item-num\">6&nbsp;&nbsp;</span>Чек-лист готовности проекта</a></span></li></ul></div>"
   ]
  },
  {
   "cell_type": "markdown",
   "metadata": {},
   "source": [
    "# Отток клиентов"
   ]
  },
  {
   "cell_type": "markdown",
   "metadata": {},
   "source": [
    "Из «Бета-Банка» стали уходить клиенты. Каждый месяц. Немного, но заметно. Банковские маркетологи посчитали: сохранять текущих клиентов дешевле, чем привлекать новых.\n",
    "\n",
    "Нужно спрогнозировать, уйдёт клиент из банка в ближайшее время или нет. Нам предоставлены исторические данные о поведении клиентов и расторжении договоров с банком. \n",
    "\n",
    "Построем модель с предельно большим значением *F1*-меры, дополнительно измерим *AUC-ROC*, сравнивая её значение с *F1*-мерой.\n",
    "\n",
    "Источник данных: [https://www.kaggle.com/barelydedicated/bank-customer-churn-modeling](https://www.kaggle.com/barelydedicated/bank-customer-churn-modeling)"
   ]
  },
  {
   "cell_type": "markdown",
   "metadata": {},
   "source": [
    "## Подготовка данных"
   ]
  },
  {
   "cell_type": "code",
   "execution_count": 47,
   "metadata": {},
   "outputs": [],
   "source": [
    "import pandas as pd\n",
    "import numpy as np\n",
    "import matplotlib.pyplot as plt\n",
    "from sklearn.model_selection import train_test_split\n",
    "from sklearn.linear_model import LogisticRegression\n",
    "from sklearn.preprocessing import StandardScaler\n",
    "from sklearn.metrics import accuracy_score\n",
    "from sklearn.tree import DecisionTreeClassifier\n",
    "from sklearn.ensemble import RandomForestClassifier\n",
    "from sklearn.dummy import DummyClassifier\n",
    "from sklearn.utils import shuffle\n",
    "from sklearn.preprocessing import OneHotEncoder\n",
    "from sklearn.metrics import (\n",
    "    confusion_matrix,\n",
    "    recall_score,\n",
    "    precision_score,\n",
    "    f1_score,\n",
    "    roc_curve,\n",
    "    roc_auc_score\n",
    ")"
   ]
  },
  {
   "cell_type": "code",
   "execution_count": 48,
   "metadata": {},
   "outputs": [],
   "source": [
    "pd.options.mode.chained_assignment = None  # default='warn'"
   ]
  },
  {
   "cell_type": "code",
   "execution_count": 49,
   "metadata": {},
   "outputs": [],
   "source": [
    "data = pd.read_csv('./datasets/Churn.csv')"
   ]
  },
  {
   "cell_type": "code",
   "execution_count": 50,
   "metadata": {},
   "outputs": [
    {
     "name": "stdout",
     "output_type": "stream",
     "text": [
      "<class 'pandas.core.frame.DataFrame'>\n",
      "RangeIndex: 10000 entries, 0 to 9999\n",
      "Data columns (total 14 columns):\n",
      " #   Column           Non-Null Count  Dtype  \n",
      "---  ------           --------------  -----  \n",
      " 0   RowNumber        10000 non-null  int64  \n",
      " 1   CustomerId       10000 non-null  int64  \n",
      " 2   Surname          10000 non-null  object \n",
      " 3   CreditScore      10000 non-null  int64  \n",
      " 4   Geography        10000 non-null  object \n",
      " 5   Gender           10000 non-null  object \n",
      " 6   Age              10000 non-null  int64  \n",
      " 7   Tenure           10000 non-null  int64  \n",
      " 8   Balance          10000 non-null  float64\n",
      " 9   NumOfProducts    10000 non-null  int64  \n",
      " 10  HasCrCard        10000 non-null  int64  \n",
      " 11  IsActiveMember   10000 non-null  int64  \n",
      " 12  EstimatedSalary  10000 non-null  float64\n",
      " 13  Exited           10000 non-null  int64  \n",
      "dtypes: float64(2), int64(9), object(3)\n",
      "memory usage: 1.1+ MB\n"
     ]
    }
   ],
   "source": [
    "data.info()"
   ]
  },
  {
   "cell_type": "code",
   "execution_count": 51,
   "metadata": {},
   "outputs": [
    {
     "data": {
      "text/plain": [
       "2     1048\n",
       "1     1035\n",
       "7     1028\n",
       "8     1025\n",
       "5     1012\n",
       "3     1009\n",
       "4      989\n",
       "9      984\n",
       "6      967\n",
       "10     490\n",
       "0      413\n",
       "Name: Tenure, dtype: int64"
      ]
     },
     "execution_count": 51,
     "metadata": {},
     "output_type": "execute_result"
    }
   ],
   "source": [
    "data['Tenure'].value_counts(dropna=False)"
   ]
  },
  {
   "cell_type": "markdown",
   "metadata": {},
   "source": [
    "В столбце Tenure присутствую пропуски. Заменим их на среднее значение по данному столбцу, округленное до целого."
   ]
  },
  {
   "cell_type": "code",
   "execution_count": 52,
   "metadata": {},
   "outputs": [],
   "source": [
    "data = data.dropna(subset=['Tenure'])"
   ]
  },
  {
   "cell_type": "code",
   "execution_count": 53,
   "metadata": {},
   "outputs": [
    {
     "data": {
      "text/plain": [
       "2     1048\n",
       "1     1035\n",
       "7     1028\n",
       "8     1025\n",
       "5     1012\n",
       "3     1009\n",
       "4      989\n",
       "9      984\n",
       "6      967\n",
       "10     490\n",
       "0      413\n",
       "Name: Tenure, dtype: int64"
      ]
     },
     "execution_count": 53,
     "metadata": {},
     "output_type": "execute_result"
    }
   ],
   "source": [
    "data['Tenure'].value_counts(dropna=False)"
   ]
  },
  {
   "cell_type": "markdown",
   "metadata": {},
   "source": [
    "Проверим данные на наличие дубликатов"
   ]
  },
  {
   "cell_type": "code",
   "execution_count": 54,
   "metadata": {},
   "outputs": [
    {
     "data": {
      "text/plain": [
       "0"
      ]
     },
     "execution_count": 54,
     "metadata": {},
     "output_type": "execute_result"
    }
   ],
   "source": [
    "data.duplicated().sum()"
   ]
  },
  {
   "cell_type": "markdown",
   "metadata": {},
   "source": [
    "Явных дубликатов в данных нет"
   ]
  },
  {
   "cell_type": "code",
   "execution_count": 55,
   "metadata": {},
   "outputs": [
    {
     "data": {
      "text/plain": [
       "Index(['RowNumber', 'CustomerId', 'Surname', 'CreditScore', 'Geography',\n",
       "       'Gender', 'Age', 'Tenure', 'Balance', 'NumOfProducts', 'HasCrCard',\n",
       "       'IsActiveMember', 'EstimatedSalary', 'Exited'],\n",
       "      dtype='object')"
      ]
     },
     "execution_count": 55,
     "metadata": {},
     "output_type": "execute_result"
    }
   ],
   "source": [
    "data.columns"
   ]
  },
  {
   "cell_type": "markdown",
   "metadata": {},
   "source": [
    "Столбцы RowNumber, CustomerId и Surname не несут в себе информацию, которая может быть полезна для алгоритма классификации, поэтому удалим эти столбцы из исходных данных"
   ]
  },
  {
   "cell_type": "code",
   "execution_count": 56,
   "metadata": {},
   "outputs": [
    {
     "data": {
      "text/plain": [
       "Index(['CreditScore', 'Geography', 'Gender', 'Age', 'Tenure', 'Balance',\n",
       "       'NumOfProducts', 'HasCrCard', 'IsActiveMember', 'EstimatedSalary',\n",
       "       'Exited'],\n",
       "      dtype='object')"
      ]
     },
     "metadata": {},
     "output_type": "display_data"
    }
   ],
   "source": [
    "data = data.drop('Surname', axis=1)\n",
    "data = data.drop('CustomerId', axis=1)\n",
    "data = data.drop('RowNumber', axis=1)\n",
    "\n",
    "display(data.columns)"
   ]
  },
  {
   "cell_type": "code",
   "execution_count": 57,
   "metadata": {},
   "outputs": [
    {
     "name": "stdout",
     "output_type": "stream",
     "text": [
      "Index(['CreditScore', 'Geography', 'Gender', 'Age', 'Tenure', 'Balance',\n",
      "       'NumOfProducts', 'HasCrCard', 'IsActiveMember', 'EstimatedSalary'],\n",
      "      dtype='object')\n"
     ]
    }
   ],
   "source": [
    "target = data['Exited']\n",
    "features = data.drop('Exited', axis=1)\n",
    "print(features.columns)"
   ]
  },
  {
   "cell_type": "code",
   "execution_count": 58,
   "metadata": {},
   "outputs": [
    {
     "data": {
      "text/plain": [
       "(10000, 10)"
      ]
     },
     "metadata": {},
     "output_type": "display_data"
    },
    {
     "data": {
      "text/plain": [
       "(10000,)"
      ]
     },
     "metadata": {},
     "output_type": "display_data"
    }
   ],
   "source": [
    "display(features.shape)\n",
    "display(target.shape)"
   ]
  },
  {
   "cell_type": "code",
   "execution_count": 59,
   "metadata": {},
   "outputs": [],
   "source": [
    "TRAIN_RATIO = 0.60\n",
    "TEST_RATIO = 0.20\n",
    "VALIDATION_RATIO = 0.20\n",
    "\n",
    "features_train, features_test, target_train, target_test = train_test_split(features, target, test_size=TEST_RATIO, random_state=12345)\n",
    "features_train, features_valid, target_train, target_valid = train_test_split(features_train, target_train, test_size=VALIDATION_RATIO/(TRAIN_RATIO+TEST_RATIO), random_state=12345)"
   ]
  },
  {
   "cell_type": "code",
   "execution_count": 60,
   "metadata": {},
   "outputs": [
    {
     "name": "stdout",
     "output_type": "stream",
     "text": [
      "Размер обучающей выборки: (6000, 10)\n",
      "Размер валидационной выборки: (2000, 10)\n",
      "Размер тестовой выборки: (2000, 10)\n"
     ]
    }
   ],
   "source": [
    "print(f'Размер обучающей выборки: {features_train.shape}')\n",
    "print(f'Размер валидационной выборки: {features_valid.shape}')\n",
    "print(f'Размер тестовой выборки: {features_test.shape}')"
   ]
  },
  {
   "cell_type": "code",
   "execution_count": 61,
   "metadata": {
    "scrolled": true
   },
   "outputs": [
    {
     "name": "stdout",
     "output_type": "stream",
     "text": [
      "Соотношение классов в тестовой выборке: 0.20316666666666666\n",
      "Соотношение классов в тестовой выборке: 0.1955\n",
      "Соотношение классов в тестовой выборке: 0.2135\n"
     ]
    }
   ],
   "source": [
    "print(f'Соотношение классов в тестовой выборке: {target_train.sum()/target_train.count()}')\n",
    "print(f'Соотношение классов в тестовой выборке: {target_valid.sum()/target_valid.count()}')\n",
    "print(f'Соотношение классов в тестовой выборке: {target_test.sum()/target_test.count()}')"
   ]
  },
  {
   "cell_type": "markdown",
   "metadata": {},
   "source": [
    "Для более равномерного распределения классов в трех выборках, используем стратификацию"
   ]
  },
  {
   "cell_type": "code",
   "execution_count": 62,
   "metadata": {},
   "outputs": [],
   "source": [
    "TRAIN_RATIO = 0.60\n",
    "TEST_RATIO = 0.20\n",
    "VALIDATION_RATIO = 0.20\n",
    "\n",
    "features_train, features_test, target_train, target_test = train_test_split(features, target, test_size=TEST_RATIO, stratify=target, random_state=12345)\n",
    "features_train, features_valid, target_train, target_valid = train_test_split(features_train, target_train, test_size=VALIDATION_RATIO/(TRAIN_RATIO+TEST_RATIO), stratify=target_train, random_state=12345)"
   ]
  },
  {
   "cell_type": "code",
   "execution_count": 63,
   "metadata": {},
   "outputs": [
    {
     "name": "stdout",
     "output_type": "stream",
     "text": [
      "Соотношение классов в тестовой выборке: 0.20383333333333334\n",
      "Соотношение классов в тестовой выборке: 0.2035\n",
      "Соотношение классов в тестовой выборке: 0.2035\n"
     ]
    }
   ],
   "source": [
    "print(f'Соотношение классов в тестовой выборке: {target_train.sum()/target_train.count()}')\n",
    "print(f'Соотношение классов в тестовой выборке: {target_valid.sum()/target_valid.count()}')\n",
    "print(f'Соотношение классов в тестовой выборке: {target_test.sum()/target_test.count()}')"
   ]
  },
  {
   "cell_type": "markdown",
   "metadata": {},
   "source": [
    "Произведем нормальзацию числовых признаков с использованием StandardScaler"
   ]
  },
  {
   "cell_type": "code",
   "execution_count": 64,
   "metadata": {},
   "outputs": [],
   "source": [
    "numeric = ['CreditScore', 'Age', 'Tenure', 'Balance', 'NumOfProducts', 'EstimatedSalary']"
   ]
  },
  {
   "cell_type": "code",
   "execution_count": 65,
   "metadata": {
    "scrolled": true
   },
   "outputs": [],
   "source": [
    "scaler = StandardScaler()\n",
    "scaler.fit(features_train[numeric]) \n",
    "\n",
    "features_train_scaled = features_train.copy()\n",
    "features_train_scaled[numeric] = scaler.transform(features_train[numeric])\n",
    "\n",
    "features_valid_scaled = features_valid.copy()\n",
    "features_valid_scaled[numeric] = scaler.transform(features_valid[numeric])\n",
    "\n",
    "features_test_scaled = features_test.copy()\n",
    "features_test_scaled[numeric] = scaler.transform(features_test[numeric])"
   ]
  },
  {
   "cell_type": "markdown",
   "metadata": {},
   "source": [
    "Перед началом обучения моделей, произведем кодировку категориальных признаков в данных методом one-hot encoding"
   ]
  },
  {
   "cell_type": "code",
   "execution_count": 66,
   "metadata": {},
   "outputs": [],
   "source": [
    "def encode_categorical_using_ohe(df_train, df_transform, columns):\n",
    "    encoder_ohe = OneHotEncoder(drop='first', handle_unknown='error', sparse=False)\n",
    "    encoder_ohe.fit(df_train[columns])\n",
    "    transformed = encoder_ohe.transform(df_transform[columns])\n",
    "    columns_encoded = [f'{col}_{cat}' for i, col in enumerate(columns) for cat in encoder_ohe.categories_[i][1:]]\n",
    "    df_encoded = pd.DataFrame(transformed, columns=columns_encoded, index=df_transform.index)\n",
    "    \n",
    "    df_transform = df_transform.join(df_encoded)\n",
    "    df_transform = df_transform.drop(columns, axis=1)\n",
    "    \n",
    "    return df_transform"
   ]
  },
  {
   "cell_type": "code",
   "execution_count": 67,
   "metadata": {},
   "outputs": [
    {
     "name": "stderr",
     "output_type": "stream",
     "text": [
      "/Users/alexeyr/.pyenv/versions/3.11.2/lib/python3.11/site-packages/sklearn/preprocessing/_encoders.py:868: FutureWarning: `sparse` was renamed to `sparse_output` in version 1.2 and will be removed in 1.4. `sparse_output` is ignored unless you leave `sparse` to its default value.\n",
      "  warnings.warn(\n",
      "/Users/alexeyr/.pyenv/versions/3.11.2/lib/python3.11/site-packages/sklearn/preprocessing/_encoders.py:868: FutureWarning: `sparse` was renamed to `sparse_output` in version 1.2 and will be removed in 1.4. `sparse_output` is ignored unless you leave `sparse` to its default value.\n",
      "  warnings.warn(\n",
      "/Users/alexeyr/.pyenv/versions/3.11.2/lib/python3.11/site-packages/sklearn/preprocessing/_encoders.py:868: FutureWarning: `sparse` was renamed to `sparse_output` in version 1.2 and will be removed in 1.4. `sparse_output` is ignored unless you leave `sparse` to its default value.\n",
      "  warnings.warn(\n"
     ]
    },
    {
     "data": {
      "text/html": [
       "<div>\n",
       "<style scoped>\n",
       "    .dataframe tbody tr th:only-of-type {\n",
       "        vertical-align: middle;\n",
       "    }\n",
       "\n",
       "    .dataframe tbody tr th {\n",
       "        vertical-align: top;\n",
       "    }\n",
       "\n",
       "    .dataframe thead th {\n",
       "        text-align: right;\n",
       "    }\n",
       "</style>\n",
       "<table border=\"1\" class=\"dataframe\">\n",
       "  <thead>\n",
       "    <tr style=\"text-align: right;\">\n",
       "      <th></th>\n",
       "      <th>CreditScore</th>\n",
       "      <th>Age</th>\n",
       "      <th>Tenure</th>\n",
       "      <th>Balance</th>\n",
       "      <th>NumOfProducts</th>\n",
       "      <th>HasCrCard</th>\n",
       "      <th>IsActiveMember</th>\n",
       "      <th>EstimatedSalary</th>\n",
       "      <th>Geography_Germany</th>\n",
       "      <th>Geography_Spain</th>\n",
       "      <th>Gender_Male</th>\n",
       "    </tr>\n",
       "  </thead>\n",
       "  <tbody>\n",
       "    <tr>\n",
       "      <th>5536</th>\n",
       "      <td>-0.143332</td>\n",
       "      <td>0.577533</td>\n",
       "      <td>-0.700687</td>\n",
       "      <td>-1.220573</td>\n",
       "      <td>0.797767</td>\n",
       "      <td>1</td>\n",
       "      <td>1</td>\n",
       "      <td>1.029613</td>\n",
       "      <td>0.0</td>\n",
       "      <td>1.0</td>\n",
       "      <td>1.0</td>\n",
       "    </tr>\n",
       "    <tr>\n",
       "      <th>8530</th>\n",
       "      <td>1.632702</td>\n",
       "      <td>-0.564119</td>\n",
       "      <td>-1.046905</td>\n",
       "      <td>0.435807</td>\n",
       "      <td>-0.916018</td>\n",
       "      <td>1</td>\n",
       "      <td>0</td>\n",
       "      <td>0.237986</td>\n",
       "      <td>0.0</td>\n",
       "      <td>0.0</td>\n",
       "      <td>0.0</td>\n",
       "    </tr>\n",
       "    <tr>\n",
       "      <th>1762</th>\n",
       "      <td>1.116413</td>\n",
       "      <td>-0.468981</td>\n",
       "      <td>-1.393123</td>\n",
       "      <td>1.245822</td>\n",
       "      <td>-0.916018</td>\n",
       "      <td>1</td>\n",
       "      <td>1</td>\n",
       "      <td>-0.686104</td>\n",
       "      <td>0.0</td>\n",
       "      <td>0.0</td>\n",
       "      <td>0.0</td>\n",
       "    </tr>\n",
       "    <tr>\n",
       "      <th>9090</th>\n",
       "      <td>1.643028</td>\n",
       "      <td>0.006707</td>\n",
       "      <td>-0.008252</td>\n",
       "      <td>-1.220573</td>\n",
       "      <td>-0.916018</td>\n",
       "      <td>1</td>\n",
       "      <td>0</td>\n",
       "      <td>-0.391097</td>\n",
       "      <td>0.0</td>\n",
       "      <td>0.0</td>\n",
       "      <td>0.0</td>\n",
       "    </tr>\n",
       "    <tr>\n",
       "      <th>8777</th>\n",
       "      <td>-0.484083</td>\n",
       "      <td>-1.420358</td>\n",
       "      <td>-1.393123</td>\n",
       "      <td>1.421989</td>\n",
       "      <td>0.797767</td>\n",
       "      <td>1</td>\n",
       "      <td>0</td>\n",
       "      <td>-1.361559</td>\n",
       "      <td>0.0</td>\n",
       "      <td>1.0</td>\n",
       "      <td>1.0</td>\n",
       "    </tr>\n",
       "  </tbody>\n",
       "</table>\n",
       "</div>"
      ],
      "text/plain": [
       "      CreditScore       Age    Tenure   Balance  NumOfProducts  HasCrCard  \\\n",
       "5536    -0.143332  0.577533 -0.700687 -1.220573       0.797767          1   \n",
       "8530     1.632702 -0.564119 -1.046905  0.435807      -0.916018          1   \n",
       "1762     1.116413 -0.468981 -1.393123  1.245822      -0.916018          1   \n",
       "9090     1.643028  0.006707 -0.008252 -1.220573      -0.916018          1   \n",
       "8777    -0.484083 -1.420358 -1.393123  1.421989       0.797767          1   \n",
       "\n",
       "      IsActiveMember  EstimatedSalary  Geography_Germany  Geography_Spain  \\\n",
       "5536               1         1.029613                0.0              1.0   \n",
       "8530               0         0.237986                0.0              0.0   \n",
       "1762               1        -0.686104                0.0              0.0   \n",
       "9090               0        -0.391097                0.0              0.0   \n",
       "8777               0        -1.361559                0.0              1.0   \n",
       "\n",
       "      Gender_Male  \n",
       "5536          1.0  \n",
       "8530          0.0  \n",
       "1762          0.0  \n",
       "9090          0.0  \n",
       "8777          1.0  "
      ]
     },
     "execution_count": 67,
     "metadata": {},
     "output_type": "execute_result"
    }
   ],
   "source": [
    "categorical = ['Geography', 'Gender']\n",
    "\n",
    "features_train_encoded = encode_categorical_using_ohe(features_train_scaled, features_train_scaled, categorical)\n",
    "features_valid_encoded = encode_categorical_using_ohe(features_train_scaled, features_valid_scaled, categorical)\n",
    "features_test_encoded = encode_categorical_using_ohe(features_train_scaled, features_test_scaled, categorical)\n",
    "features_train_encoded.head()"
   ]
  },
  {
   "cell_type": "markdown",
   "metadata": {},
   "source": [
    "**Мы загрузили данные из csv файла, заполнили отсутствующие значения и убедились, что в данных нет дубликатов, убрали из исходных данных три столбца, которые не понадобятся для обучения модели (фамилия клиента, номер клиента и порядковый номер), оставив все остальные столбцы, разбили все исходные данные на три выборки: тренировочная (60% от исходной выборки), валидационная (20% от исходной выборки) и тестовая (20% от исходной выборки) выборки и произвели масштабирование признаков. Категориальные признаки были закодированы методом one-hot encoding. Теперь исходные данные готовы к обучению моделей.**"
   ]
  },
  {
   "cell_type": "markdown",
   "metadata": {},
   "source": [
    "## Исследование задачи"
   ]
  },
  {
   "cell_type": "markdown",
   "metadata": {},
   "source": [
    "Определим вспомогательную функцию, которая выведет метрику F1-score для заданной модели на всех трех выборках"
   ]
  },
  {
   "cell_type": "code",
   "execution_count": 68,
   "metadata": {},
   "outputs": [],
   "source": [
    "def evaluate_model(model, features_valid, target_valid):\n",
    "    print(f\"F1-score на валидационной выборке:\", f1_score(target_valid, model.predict(features_valid)))\n",
    "    \n",
    "    probabilities_valid = model.predict_proba(features_valid)\n",
    "    probabilities_one_valid = probabilities_valid[:, 1]\n",
    "    print(f'AUC ROC на валидационной выборке: {roc_auc_score(target_valid, probabilities_one_valid)}')"
   ]
  },
  {
   "cell_type": "markdown",
   "metadata": {},
   "source": [
    "#### Случайная модель"
   ]
  },
  {
   "cell_type": "markdown",
   "metadata": {},
   "source": [
    "Обучим случайную модель и посмотрим на метрику F1-score, мы будем использовать эти значения как базу для сравнения всех последующих моделей"
   ]
  },
  {
   "cell_type": "code",
   "execution_count": 69,
   "metadata": {},
   "outputs": [
    {
     "name": "stdout",
     "output_type": "stream",
     "text": [
      "F1-score на валидационной выборке: 0.30324400564174897\n",
      "AUC ROC на валидационной выборке: 0.5\n"
     ]
    }
   ],
   "source": [
    "dummy_model = DummyClassifier(strategy='uniform', random_state=12345)\n",
    "dummy_model.fit(features_train_encoded, target_train)\n",
    "\n",
    "evaluate_model(dummy_model, features_valid_encoded, target_valid)"
   ]
  },
  {
   "cell_type": "markdown",
   "metadata": {},
   "source": [
    "Случайная модель показывает точность на валидационной выборке по метрике F1-score в 30%, а по метрике AUC-ROC 0.5, как и ожидается для случайной модели"
   ]
  },
  {
   "cell_type": "markdown",
   "metadata": {},
   "source": [
    "#### Логистическая регрессия"
   ]
  },
  {
   "cell_type": "markdown",
   "metadata": {},
   "source": [
    "Обучим модель логистической регрессии и сравним ее показатели точности со случайной моделью"
   ]
  },
  {
   "cell_type": "code",
   "execution_count": 70,
   "metadata": {},
   "outputs": [
    {
     "name": "stdout",
     "output_type": "stream",
     "text": [
      "F1-score на валидационной выборке: 0.3214953271028037\n",
      "AUC ROC на валидационной выборке: 0.7875086180170926\n"
     ]
    }
   ],
   "source": [
    "log_reg_model = LogisticRegression(solver='liblinear', random_state=12345) \n",
    "log_reg_model.fit(features_train_encoded, target_train)\n",
    "\n",
    "evaluate_model(log_reg_model, features_valid_encoded, target_valid)"
   ]
  },
  {
   "cell_type": "markdown",
   "metadata": {},
   "source": [
    "Модель логистической регрессии покатывает точность, не намного превышающую точность случайной модели"
   ]
  },
  {
   "cell_type": "markdown",
   "metadata": {},
   "source": [
    "#### Дерево решений"
   ]
  },
  {
   "cell_type": "markdown",
   "metadata": {},
   "source": [
    "Обучим дерево решений с перебором максимальной глубины дерева. Выберем наилучшую модель, сравнивая показатель F1-score на валидационной выборке."
   ]
  },
  {
   "cell_type": "code",
   "execution_count": 71,
   "metadata": {},
   "outputs": [
    {
     "name": "stdout",
     "output_type": "stream",
     "text": [
      "Параметры лучшей модели: max_depth=8\n",
      "F1-score на валидационной выборке: 0.5838150289017341\n",
      "AUC ROC на валидационной выборке: 0.8089707581233004\n"
     ]
    }
   ],
   "source": [
    "best_dec_tree_model = None\n",
    "best_depth = None\n",
    "best_result = float('-inf')\n",
    "\n",
    "for depth in range (1, 30):\n",
    "    model = DecisionTreeClassifier(max_depth=depth, random_state=12345)\n",
    "    model.fit(features_train_encoded, target_train)\n",
    "    predicted_valid = model.predict(features_valid_encoded)\n",
    "    result = f1_score(predicted_valid, target_valid)\n",
    "    if result > best_result:\n",
    "        best_dec_tree_model = model \n",
    "        best_result = result\n",
    "        best_depth = depth\n",
    "        \n",
    "print(f'Параметры лучшей модели: max_depth={best_depth}')\n",
    "evaluate_model(best_dec_tree_model, features_valid_encoded, target_valid)"
   ]
  },
  {
   "cell_type": "markdown",
   "metadata": {},
   "source": [
    "Наилучший показатель точности на валидационной выборке показала модель с максимальной глубиной в 8 - она показывает точность в 58% на тестовой выборке до балансировки классов"
   ]
  },
  {
   "cell_type": "markdown",
   "metadata": {},
   "source": [
    "#### Случайный лес"
   ]
  },
  {
   "cell_type": "markdown",
   "metadata": {},
   "source": [
    "Попробуем так же натренировать модель случайного леса с перебором двух гиперпараметров: количеством эстиматоров и максимальной глубиной"
   ]
  },
  {
   "cell_type": "code",
   "execution_count": 72,
   "metadata": {},
   "outputs": [
    {
     "name": "stdout",
     "output_type": "stream",
     "text": [
      "Параметры лучшей модели: max_depth=19 n_estimators=33\n",
      "F1-score на валидационной выборке: 0.583963691376702\n",
      "AUC ROC на валидационной выборке: 0.8459399306856934\n"
     ]
    }
   ],
   "source": [
    "best_rand_forest_model = None\n",
    "best_depth = None\n",
    "best_est = None\n",
    "best_result = 0\n",
    "\n",
    "for est in range(25, 35):\n",
    "    for depth in range (1, 20):\n",
    "        model = RandomForestClassifier(n_estimators=est, max_depth=depth, random_state=12345)\n",
    "        model.fit(features_train_encoded, target_train)\n",
    "        predicted_valid = model.predict(features_valid_encoded)\n",
    "        result = f1_score(predicted_valid, target_valid)\n",
    "        if result > best_result:\n",
    "            best_rand_forest_model = model \n",
    "            best_result = result\n",
    "            best_depth = depth\n",
    "            best_est = est\n",
    "\n",
    "print(f'Параметры лучшей модели: max_depth={best_depth} n_estimators={best_est}')\n",
    "evaluate_model(best_rand_forest_model, features_valid_encoded, target_valid)"
   ]
  },
  {
   "cell_type": "markdown",
   "metadata": {},
   "source": [
    "Случайный лес с количеством эстиматоров в 32 и максимальной глубиной дерева в 15 показал наилучшую точность на валидационной выборке"
   ]
  },
  {
   "cell_type": "markdown",
   "metadata": {},
   "source": [
    "**Итак, модель, показавшая наивысшую точность по метрике F1-score - случайный лес с максимальной глубиной дерева в 15 уровней и количеством эстиматоров 32. В дальнейшем в этом задании мы будем работать именно с этим классом моделей и постараемся достичь желаемой точности путем балансировки классов в исходных данных.**"
   ]
  },
  {
   "cell_type": "markdown",
   "metadata": {},
   "source": [
    "## Борьба с дисбалансом"
   ]
  },
  {
   "cell_type": "code",
   "execution_count": 73,
   "metadata": {},
   "outputs": [
    {
     "data": {
      "text/plain": [
       "0    4777\n",
       "1    1223\n",
       "Name: Exited, dtype: int64"
      ]
     },
     "execution_count": 73,
     "metadata": {},
     "output_type": "execute_result"
    }
   ],
   "source": [
    "target_train.value_counts()"
   ]
  },
  {
   "cell_type": "markdown",
   "metadata": {},
   "source": [
    "Из распределения значений целевой переменной мы видим, что в исходных данных присутствует сильный дисбаланс классов в пользу пользователей, которые не ушли из банка - они составляют примерно 80% от всех пользователей в исходном наборе данных. Балансировка классов должна помочь улучшить показатели точности классификатора."
   ]
  },
  {
   "cell_type": "markdown",
   "metadata": {},
   "source": [
    "#### Балансировка методом взвешивания классов"
   ]
  },
  {
   "cell_type": "markdown",
   "metadata": {},
   "source": [
    "Попробуем решить проблему дисбаланса в исходных данных путем указания параметра `class_weight` при создании модели"
   ]
  },
  {
   "cell_type": "code",
   "execution_count": null,
   "metadata": {},
   "outputs": [],
   "source": [
    "best_rand_forest_model = None\n",
    "best_depth = None\n",
    "best_est = None\n",
    "best_result = 0\n",
    "\n",
    "for est in range(25, 35):\n",
    "    for depth in range (1, 20):\n",
    "        model = RandomForestClassifier(n_estimators=est, max_depth=depth, random_state=12345, class_weight='balanced')\n",
    "        model.fit(features_train_encoded, target_train)\n",
    "        predicted_valid = model.predict(features_valid_encoded)\n",
    "        result = f1_score(predicted_valid, target_valid)\n",
    "        if result > best_result:\n",
    "            best_rand_forest_model = model \n",
    "            best_result = result\n",
    "            best_depth = depth\n",
    "            best_est = est\n",
    "\n",
    "print(f'Параметры лучшей модели: max_depth={best_depth} n_estimators={best_est}')\n",
    "evaluate_model(best_rand_forest_model, features_valid_encoded, target_valid)"
   ]
  },
  {
   "cell_type": "markdown",
   "metadata": {},
   "source": [
    "Точность модели на обучающей выборке выросла, а на валидационной выборке снизилась"
   ]
  },
  {
   "cell_type": "markdown",
   "metadata": {},
   "source": [
    "#### Балансировка методом увеличения выборки"
   ]
  },
  {
   "cell_type": "markdown",
   "metadata": {},
   "source": [
    "Попробуем второй подход к решению проблемы дисбаласа классов: продублируем записи в данных со значением целевой перемнной 1, т.е. те записи, которые недопредставленны в исходных данных"
   ]
  },
  {
   "cell_type": "code",
   "execution_count": null,
   "metadata": {},
   "outputs": [],
   "source": [
    "features_zeros = features_train_encoded[target_train == 0]\n",
    "features_ones = features_train_encoded[target_train == 1]\n",
    "target_zeros = target_train[target == 0]\n",
    "target_ones = target_train[target == 1]\n",
    "\n",
    "features_train_upsampled = pd.concat([features_zeros] + [features_ones] * 4)\n",
    "target_train_upsampled = pd.concat([target_zeros] + [target_ones] * 4)\n",
    "\n",
    "features_train_upsampled, target_train_upsampled = shuffle(features_train_upsampled, target_train_upsampled, random_state=12345)"
   ]
  },
  {
   "cell_type": "code",
   "execution_count": null,
   "metadata": {},
   "outputs": [],
   "source": [
    "target_train_upsampled.value_counts()"
   ]
  },
  {
   "cell_type": "markdown",
   "metadata": {},
   "source": [
    "Мы видим, что после апсэмплинга в данных приблизительно одинаково часто встречаются записи со значением целевой переменной 1 и 0 - данные сбалансированы"
   ]
  },
  {
   "cell_type": "code",
   "execution_count": null,
   "metadata": {},
   "outputs": [],
   "source": [
    "best_model_balanced = None\n",
    "best_depth = None\n",
    "best_est = None\n",
    "best_result = 0\n",
    "\n",
    "for est in range(25, 35):\n",
    "    for depth in range (1, 20):\n",
    "        model = RandomForestClassifier(n_estimators=est, max_depth=depth, random_state=12345)\n",
    "        model.fit(features_train_upsampled, target_train_upsampled)\n",
    "        predicted_valid = model.predict(features_valid_encoded)\n",
    "        result = f1_score(predicted_valid, target_valid)\n",
    "        if result > best_result:\n",
    "            best_model_balanced = model \n",
    "            best_result = result\n",
    "            best_depth = depth\n",
    "            best_est = est\n",
    "\n",
    "print(f'Параметры лучшей модели: max_depth={best_depth} n_estimators={best_est}')\n",
    "evaluate_model(best_model_balanced, features_valid_encoded, target_valid)"
   ]
  },
  {
   "cell_type": "markdown",
   "metadata": {},
   "source": [
    "\"Ручная\" балансировка данных дала больший прирост точности, чем автоматическая балансировка путем задания параметра `class_weight='balanced'`"
   ]
  },
  {
   "cell_type": "markdown",
   "metadata": {},
   "source": [
    "**С помощью балансировки данных методом upsampling-а, т.е. увеличением количества записей в исходных данных так, чтобы достичь баланса значений целевой переменной, нам удалось достичь точности по метрике F1-score в 61% на валидационных данных.**"
   ]
  },
  {
   "cell_type": "markdown",
   "metadata": {},
   "source": [
    "## Тестирование модели"
   ]
  },
  {
   "cell_type": "code",
   "execution_count": null,
   "metadata": {},
   "outputs": [],
   "source": [
    "predictions_test = best_model_balanced.predict(features_test_encoded)\n",
    "print(f\"F1-score на тестовой выборке:\", f1_score(target_test, predictions_test))"
   ]
  },
  {
   "cell_type": "markdown",
   "metadata": {},
   "source": [
    "Точность наилучщей модели на тестовых данных - 61%, что выше требуемого показателя точности в 59%"
   ]
  },
  {
   "cell_type": "code",
   "execution_count": null,
   "metadata": {},
   "outputs": [],
   "source": [
    "def display_roc_curve(target, probabilities_one, title):\n",
    "    fpr, tpr, thresholds = roc_curve(target, probabilities_one)\n",
    "\n",
    "    plt.figure()\n",
    "    plt.plot(fpr, tpr)\n",
    "    plt.xlim([0.0, 1.0])\n",
    "    plt.ylim([0.0, 1.0])\n",
    "    plt.xlabel(\"False Positive Rate\")\n",
    "    plt.ylabel(\"True Positive Rate\")\n",
    "    plt.title(title)\n",
    "    plt.show()"
   ]
  },
  {
   "cell_type": "code",
   "execution_count": null,
   "metadata": {},
   "outputs": [],
   "source": [
    "probabilities_test = best_rand_forest_model.predict_proba(features_test_encoded)\n",
    "probabilities_one_test = probabilities_test[:, 1]\n",
    "\n",
    "display_roc_curve(target_test, probabilities_one_test, \"ROC-кривая для тестовой выборки\")\n",
    "print(f'AUC ROC: {roc_auc_score(target_test, probabilities_one_test)}')"
   ]
  },
  {
   "cell_type": "markdown",
   "metadata": {},
   "source": [
    "**Наилучшая модель показала точность в 61% по метрике F1-score, что соответствует желаемой точности. График кривой ROC поднят высоко над диагональю (0,0) - (1,1), это говорит о высоком значение TPR и хорошем качество обученной модели.**"
   ]
  },
  {
   "cell_type": "markdown",
   "metadata": {},
   "source": [
    "## Выводы"
   ]
  },
  {
   "cell_type": "markdown",
   "metadata": {},
   "source": [
    "В данной работе мы применили три класса моделей машинного обучения к задаче классификации клиенов банка для прогнозирования их оттока. Наилучшую точность в 61% по метрике F1-score показала модель дерева решений, что соответствует желаемой точности. Изначальная точность модели в 58% была увеличена за счет балансировки классов в исходных данных. Анализ кривой ROC и подсчет метрики AUC-ROC подтвердил качество обученной модели, модель показала значение 0.84 по метрике AUC-ROC на тестовых данных. Наилучие гиперпараметры модели: max_depth=12 n_estimators=32."
   ]
  }
 ],
 "metadata": {
  "ExecuteTimeLog": [
   {
    "duration": 1169,
    "start_time": "2023-07-04T07:24:29.066Z"
   },
   {
    "duration": 192,
    "start_time": "2023-07-04T07:29:40.955Z"
   },
   {
    "duration": 91,
    "start_time": "2023-07-04T07:34:20.945Z"
   },
   {
    "duration": 22,
    "start_time": "2023-07-04T07:34:36.673Z"
   },
   {
    "duration": 308,
    "start_time": "2023-07-04T07:52:04.839Z"
   },
   {
    "duration": 97,
    "start_time": "2023-07-04T07:52:23.516Z"
   },
   {
    "duration": 112,
    "start_time": "2023-07-04T07:52:38.817Z"
   },
   {
    "duration": 93,
    "start_time": "2023-07-04T07:52:48.353Z"
   },
   {
    "duration": 550,
    "start_time": "2023-07-04T07:52:59.797Z"
   },
   {
    "duration": 4,
    "start_time": "2023-07-04T07:58:46.175Z"
   },
   {
    "duration": 3,
    "start_time": "2023-07-04T07:59:11.581Z"
   },
   {
    "duration": 3,
    "start_time": "2023-07-04T08:03:04.769Z"
   },
   {
    "duration": 32,
    "start_time": "2023-07-04T08:03:37.294Z"
   },
   {
    "duration": 5,
    "start_time": "2023-07-04T08:10:19.986Z"
   },
   {
    "duration": 17,
    "start_time": "2023-07-04T08:10:20.684Z"
   },
   {
    "duration": 543,
    "start_time": "2023-07-04T08:11:45.983Z"
   },
   {
    "duration": 4,
    "start_time": "2023-07-04T08:12:37.114Z"
   },
   {
    "duration": 57,
    "start_time": "2023-07-04T08:12:43.488Z"
   },
   {
    "duration": 641,
    "start_time": "2023-07-04T08:12:52.360Z"
   },
   {
    "duration": 3,
    "start_time": "2023-07-04T08:13:03.144Z"
   },
   {
    "duration": 101,
    "start_time": "2023-07-04T08:18:34.434Z"
   },
   {
    "duration": 21,
    "start_time": "2023-07-04T08:18:35.971Z"
   },
   {
    "duration": 6489,
    "start_time": "2023-07-04T08:20:39.567Z"
   },
   {
    "duration": 4327,
    "start_time": "2023-07-04T08:22:03.429Z"
   },
   {
    "duration": 130,
    "start_time": "2023-07-04T08:22:15.638Z"
   },
   {
    "duration": 12,
    "start_time": "2023-07-04T08:22:45.139Z"
   },
   {
    "duration": 25,
    "start_time": "2023-07-04T08:23:21.927Z"
   },
   {
    "duration": 9,
    "start_time": "2023-07-04T08:24:10.914Z"
   },
   {
    "duration": 6,
    "start_time": "2023-07-04T08:24:32.892Z"
   },
   {
    "duration": 163,
    "start_time": "2023-07-04T08:24:40.928Z"
   },
   {
    "duration": 6,
    "start_time": "2023-07-04T08:24:44.759Z"
   },
   {
    "duration": 12,
    "start_time": "2023-07-04T08:25:11.577Z"
   },
   {
    "duration": 299,
    "start_time": "2023-07-04T08:49:12.470Z"
   },
   {
    "duration": 35,
    "start_time": "2023-07-04T08:52:08.094Z"
   },
   {
    "duration": 120,
    "start_time": "2023-07-04T08:52:24.969Z"
   },
   {
    "duration": 13,
    "start_time": "2023-07-04T08:52:26.219Z"
   },
   {
    "duration": 28,
    "start_time": "2023-07-04T08:52:37.872Z"
   },
   {
    "duration": 20,
    "start_time": "2023-07-04T08:53:24.406Z"
   },
   {
    "duration": 8,
    "start_time": "2023-07-04T08:53:44.994Z"
   },
   {
    "duration": 28,
    "start_time": "2023-07-04T08:53:48.427Z"
   },
   {
    "duration": 5,
    "start_time": "2023-07-04T08:56:29.561Z"
   },
   {
    "duration": 32,
    "start_time": "2023-07-04T08:56:32.577Z"
   },
   {
    "duration": 4,
    "start_time": "2023-07-04T08:57:48.007Z"
   },
   {
    "duration": 47,
    "start_time": "2023-07-04T08:57:49.127Z"
   },
   {
    "duration": 36,
    "start_time": "2023-07-04T08:57:52.560Z"
   },
   {
    "duration": 6,
    "start_time": "2023-07-04T08:59:15.403Z"
   },
   {
    "duration": 3,
    "start_time": "2023-07-04T09:00:24.746Z"
   },
   {
    "duration": 37,
    "start_time": "2023-07-04T09:00:26.530Z"
   },
   {
    "duration": 13,
    "start_time": "2023-07-04T09:00:29.249Z"
   },
   {
    "duration": 270,
    "start_time": "2023-07-04T09:01:11.175Z"
   },
   {
    "duration": 110,
    "start_time": "2023-07-04T09:01:15.579Z"
   },
   {
    "duration": 3,
    "start_time": "2023-07-04T09:01:17.227Z"
   },
   {
    "duration": 40,
    "start_time": "2023-07-04T09:01:17.969Z"
   },
   {
    "duration": 5,
    "start_time": "2023-07-04T09:01:18.845Z"
   },
   {
    "duration": 562,
    "start_time": "2023-07-04T09:01:21.938Z"
   },
   {
    "duration": 37,
    "start_time": "2023-07-04T09:02:22.776Z"
   },
   {
    "duration": 68,
    "start_time": "2023-07-04T09:32:55.823Z"
   },
   {
    "duration": 14,
    "start_time": "2023-07-04T09:33:08.448Z"
   },
   {
    "duration": 545,
    "start_time": "2023-07-04T12:38:47.148Z"
   },
   {
    "duration": 88,
    "start_time": "2023-07-04T12:38:47.695Z"
   },
   {
    "duration": 3,
    "start_time": "2023-07-04T12:44:52.508Z"
   },
   {
    "duration": 138,
    "start_time": "2023-07-04T12:50:03.642Z"
   },
   {
    "duration": 5,
    "start_time": "2023-07-04T12:50:26.543Z"
   },
   {
    "duration": 23,
    "start_time": "2023-07-04T12:56:20.005Z"
   },
   {
    "duration": 12,
    "start_time": "2023-07-04T12:56:29.122Z"
   },
   {
    "duration": 5,
    "start_time": "2023-07-04T12:56:29.815Z"
   },
   {
    "duration": 5,
    "start_time": "2023-07-04T12:56:37.373Z"
   },
   {
    "duration": 24,
    "start_time": "2023-07-04T12:56:38.776Z"
   },
   {
    "duration": 5,
    "start_time": "2023-07-04T12:56:42.282Z"
   },
   {
    "duration": 13,
    "start_time": "2023-07-04T12:56:46.221Z"
   },
   {
    "duration": 15,
    "start_time": "2023-07-04T12:57:18.806Z"
   },
   {
    "duration": 22,
    "start_time": "2023-07-04T12:57:21.851Z"
   },
   {
    "duration": 227,
    "start_time": "2023-07-04T12:59:00.408Z"
   },
   {
    "duration": 12,
    "start_time": "2023-07-04T13:00:07.706Z"
   },
   {
    "duration": 15,
    "start_time": "2023-07-04T13:00:45.806Z"
   },
   {
    "duration": 16112,
    "start_time": "2023-07-04T13:00:50.581Z"
   },
   {
    "duration": 231,
    "start_time": "2023-07-04T13:03:55.904Z"
   },
   {
    "duration": 324,
    "start_time": "2023-07-04T13:04:10.719Z"
   },
   {
    "duration": 44,
    "start_time": "2023-07-04T13:04:47.325Z"
   },
   {
    "duration": 245,
    "start_time": "2023-07-04T13:05:53.551Z"
   },
   {
    "duration": 5446,
    "start_time": "2023-07-04T13:06:12.490Z"
   },
   {
    "duration": 0,
    "start_time": "2023-07-04T13:06:17.938Z"
   },
   {
    "duration": 4,
    "start_time": "2023-07-04T13:06:22.925Z"
   },
   {
    "duration": 119,
    "start_time": "2023-07-04T13:06:23.705Z"
   },
   {
    "duration": 16,
    "start_time": "2023-07-04T13:06:24.082Z"
   },
   {
    "duration": 42,
    "start_time": "2023-07-04T13:06:26.952Z"
   },
   {
    "duration": 10,
    "start_time": "2023-07-04T13:06:27.003Z"
   },
   {
    "duration": 5,
    "start_time": "2023-07-04T13:06:27.015Z"
   },
   {
    "duration": 3,
    "start_time": "2023-07-04T13:06:28.047Z"
   },
   {
    "duration": 58,
    "start_time": "2023-07-04T13:06:28.061Z"
   },
   {
    "duration": 4,
    "start_time": "2023-07-04T13:06:28.121Z"
   },
   {
    "duration": 20,
    "start_time": "2023-07-04T13:06:30.763Z"
   },
   {
    "duration": 53,
    "start_time": "2023-07-04T13:06:31.210Z"
   },
   {
    "duration": 16,
    "start_time": "2023-07-04T13:06:57.742Z"
   },
   {
    "duration": 200,
    "start_time": "2023-07-04T13:23:03.214Z"
   },
   {
    "duration": 30,
    "start_time": "2023-07-04T13:24:10.479Z"
   },
   {
    "duration": 3,
    "start_time": "2023-07-04T13:54:15.770Z"
   },
   {
    "duration": 8,
    "start_time": "2023-07-04T14:06:15.531Z"
   },
   {
    "duration": 6,
    "start_time": "2023-07-04T14:06:59.869Z"
   },
   {
    "duration": 84,
    "start_time": "2023-07-04T14:07:36.685Z"
   },
   {
    "duration": 13,
    "start_time": "2023-07-04T14:07:44.586Z"
   },
   {
    "duration": 214,
    "start_time": "2023-07-04T14:07:45.241Z"
   },
   {
    "duration": 14,
    "start_time": "2023-07-04T14:07:48.191Z"
   },
   {
    "duration": 60,
    "start_time": "2023-07-04T14:15:37.206Z"
   },
   {
    "duration": 21,
    "start_time": "2023-07-04T14:16:02.853Z"
   },
   {
    "duration": 12,
    "start_time": "2023-07-04T14:16:11.359Z"
   },
   {
    "duration": 74,
    "start_time": "2023-07-04T14:16:29.096Z"
   },
   {
    "duration": 19,
    "start_time": "2023-07-04T14:16:37.716Z"
   },
   {
    "duration": 11,
    "start_time": "2023-07-04T14:16:53.202Z"
   },
   {
    "duration": 172,
    "start_time": "2023-07-04T14:17:18.904Z"
   },
   {
    "duration": 24,
    "start_time": "2023-07-04T14:17:22.753Z"
   },
   {
    "duration": 22,
    "start_time": "2023-07-04T14:18:49.487Z"
   },
   {
    "duration": 4,
    "start_time": "2023-07-04T14:19:02.833Z"
   },
   {
    "duration": 15,
    "start_time": "2023-07-04T14:19:06.893Z"
   },
   {
    "duration": 116,
    "start_time": "2023-07-04T14:30:55.097Z"
   },
   {
    "duration": 14,
    "start_time": "2023-07-04T14:30:55.502Z"
   },
   {
    "duration": 34,
    "start_time": "2023-07-04T14:31:02.346Z"
   },
   {
    "duration": 9,
    "start_time": "2023-07-04T14:31:03.693Z"
   },
   {
    "duration": 3,
    "start_time": "2023-07-04T14:31:06.214Z"
   },
   {
    "duration": 3,
    "start_time": "2023-07-04T14:31:12.410Z"
   },
   {
    "duration": 34,
    "start_time": "2023-07-04T14:31:12.744Z"
   },
   {
    "duration": 7,
    "start_time": "2023-07-04T14:31:13.070Z"
   },
   {
    "duration": 25,
    "start_time": "2023-07-04T14:31:17.015Z"
   },
   {
    "duration": 93,
    "start_time": "2023-07-04T14:31:18.079Z"
   },
   {
    "duration": 35,
    "start_time": "2023-07-04T14:31:51.449Z"
   },
   {
    "duration": 23,
    "start_time": "2023-07-04T14:32:06.801Z"
   },
   {
    "duration": 129,
    "start_time": "2023-07-04T14:32:10.153Z"
   },
   {
    "duration": 15,
    "start_time": "2023-07-04T14:32:34.101Z"
   },
   {
    "duration": 119,
    "start_time": "2023-07-04T14:32:55.539Z"
   },
   {
    "duration": 47,
    "start_time": "2023-07-04T14:32:58.322Z"
   },
   {
    "duration": 6,
    "start_time": "2023-07-04T14:33:00.926Z"
   },
   {
    "duration": 107,
    "start_time": "2023-07-04T14:33:23.748Z"
   },
   {
    "duration": 9,
    "start_time": "2023-07-04T14:33:40.197Z"
   },
   {
    "duration": 100,
    "start_time": "2023-07-04T14:35:10.442Z"
   },
   {
    "duration": 19,
    "start_time": "2023-07-04T14:35:10.844Z"
   },
   {
    "duration": 23,
    "start_time": "2023-07-04T14:35:12.125Z"
   },
   {
    "duration": 13,
    "start_time": "2023-07-04T14:35:15.242Z"
   },
   {
    "duration": 4,
    "start_time": "2023-07-04T14:35:16.233Z"
   },
   {
    "duration": 3,
    "start_time": "2023-07-04T14:35:17.909Z"
   },
   {
    "duration": 33,
    "start_time": "2023-07-04T14:35:18.278Z"
   },
   {
    "duration": 4,
    "start_time": "2023-07-04T14:35:19.001Z"
   },
   {
    "duration": 18,
    "start_time": "2023-07-04T14:35:24.601Z"
   },
   {
    "duration": 137,
    "start_time": "2023-07-04T14:35:25.553Z"
   },
   {
    "duration": 14,
    "start_time": "2023-07-04T14:35:27.845Z"
   },
   {
    "duration": 15,
    "start_time": "2023-07-04T14:36:17.293Z"
   },
   {
    "duration": 10,
    "start_time": "2023-07-04T14:39:30.605Z"
   },
   {
    "duration": 3,
    "start_time": "2023-07-04T14:39:45.698Z"
   },
   {
    "duration": 6,
    "start_time": "2023-07-04T14:39:49.576Z"
   },
   {
    "duration": 14,
    "start_time": "2023-07-04T14:45:28.141Z"
   },
   {
    "duration": 6,
    "start_time": "2023-07-04T14:45:28.629Z"
   },
   {
    "duration": 19,
    "start_time": "2023-07-04T14:46:57.203Z"
   },
   {
    "duration": 33,
    "start_time": "2023-07-04T14:46:58.677Z"
   },
   {
    "duration": 12,
    "start_time": "2023-07-04T14:47:00.934Z"
   },
   {
    "duration": 1117,
    "start_time": "2023-07-06T17:11:50.605Z"
   },
   {
    "duration": 143,
    "start_time": "2023-07-06T17:11:53.085Z"
   },
   {
    "duration": 14,
    "start_time": "2023-07-06T17:11:53.984Z"
   },
   {
    "duration": 21,
    "start_time": "2023-07-06T17:11:57.739Z"
   },
   {
    "duration": 10,
    "start_time": "2023-07-06T17:11:58.515Z"
   },
   {
    "duration": 5,
    "start_time": "2023-07-06T17:11:59.945Z"
   },
   {
    "duration": 3,
    "start_time": "2023-07-06T17:12:03.096Z"
   },
   {
    "duration": 35,
    "start_time": "2023-07-06T17:12:04.156Z"
   },
   {
    "duration": 5,
    "start_time": "2023-07-06T17:12:04.701Z"
   },
   {
    "duration": 18,
    "start_time": "2023-07-06T17:12:07.542Z"
   },
   {
    "duration": 92,
    "start_time": "2023-07-06T17:12:09.484Z"
   },
   {
    "duration": 15,
    "start_time": "2023-07-06T17:12:24.784Z"
   },
   {
    "duration": 9,
    "start_time": "2023-07-06T17:12:26.932Z"
   },
   {
    "duration": 5,
    "start_time": "2023-07-06T17:12:28.214Z"
   },
   {
    "duration": 23,
    "start_time": "2023-07-06T17:12:33.110Z"
   },
   {
    "duration": 6,
    "start_time": "2023-07-06T17:12:34.123Z"
   },
   {
    "duration": 11,
    "start_time": "2023-07-06T17:12:35.023Z"
   },
   {
    "duration": 6,
    "start_time": "2023-07-06T17:12:38.227Z"
   },
   {
    "duration": 14,
    "start_time": "2023-07-06T17:14:09.544Z"
   },
   {
    "duration": 7,
    "start_time": "2023-07-06T17:24:09.492Z"
   },
   {
    "duration": 24,
    "start_time": "2023-07-06T17:24:16.595Z"
   },
   {
    "duration": 58,
    "start_time": "2023-07-06T17:24:17.336Z"
   },
   {
    "duration": 8,
    "start_time": "2023-07-06T17:24:19.652Z"
   },
   {
    "duration": 10,
    "start_time": "2023-07-06T17:24:27.115Z"
   },
   {
    "duration": 5,
    "start_time": "2023-07-06T17:24:38.140Z"
   },
   {
    "duration": 57,
    "start_time": "2023-07-06T17:25:24.054Z"
   },
   {
    "duration": 8,
    "start_time": "2023-07-06T17:25:24.504Z"
   },
   {
    "duration": 14,
    "start_time": "2023-07-06T17:25:25.696Z"
   },
   {
    "duration": 6,
    "start_time": "2023-07-06T17:25:27.310Z"
   },
   {
    "duration": 1168,
    "start_time": "2023-07-26T09:25:08.504Z"
   },
   {
    "duration": 158,
    "start_time": "2023-07-26T09:25:13.469Z"
   },
   {
    "duration": 14,
    "start_time": "2023-07-26T09:25:16.398Z"
   },
   {
    "duration": 110,
    "start_time": "2023-07-26T09:26:08.687Z"
   },
   {
    "duration": 23,
    "start_time": "2023-07-26T09:26:27.793Z"
   },
   {
    "duration": 19,
    "start_time": "2023-07-26T09:26:41.988Z"
   },
   {
    "duration": 62,
    "start_time": "2023-07-26T09:26:48.063Z"
   },
   {
    "duration": 21,
    "start_time": "2023-07-26T09:26:50.354Z"
   },
   {
    "duration": 78,
    "start_time": "2023-07-26T09:27:15.468Z"
   },
   {
    "duration": 13,
    "start_time": "2023-07-26T09:27:17.289Z"
   },
   {
    "duration": 92,
    "start_time": "2023-07-26T09:30:20.868Z"
   },
   {
    "duration": 16,
    "start_time": "2023-07-26T09:30:22.757Z"
   },
   {
    "duration": 10,
    "start_time": "2023-07-26T09:30:28.854Z"
   },
   {
    "duration": 31,
    "start_time": "2023-07-26T09:32:08.549Z"
   },
   {
    "duration": 11,
    "start_time": "2023-07-26T09:32:38.880Z"
   },
   {
    "duration": 12,
    "start_time": "2023-07-26T09:32:55.643Z"
   },
   {
    "duration": 6,
    "start_time": "2023-07-26T09:32:59.359Z"
   },
   {
    "duration": 10,
    "start_time": "2023-07-26T09:33:04.285Z"
   },
   {
    "duration": 4,
    "start_time": "2023-07-26T09:33:06.583Z"
   },
   {
    "duration": 3,
    "start_time": "2023-07-26T09:33:14.702Z"
   },
   {
    "duration": 23,
    "start_time": "2023-07-26T09:33:19.493Z"
   },
   {
    "duration": 5,
    "start_time": "2023-07-26T09:33:35.310Z"
   },
   {
    "duration": 20,
    "start_time": "2023-07-26T09:34:01.865Z"
   },
   {
    "duration": 170,
    "start_time": "2023-07-26T09:34:07.105Z"
   },
   {
    "duration": 12,
    "start_time": "2023-07-26T09:34:20.720Z"
   },
   {
    "duration": 11,
    "start_time": "2023-07-26T09:34:26.747Z"
   },
   {
    "duration": 10,
    "start_time": "2023-07-26T09:34:34.058Z"
   },
   {
    "duration": 19,
    "start_time": "2023-07-26T09:34:43.602Z"
   },
   {
    "duration": 10,
    "start_time": "2023-07-26T09:35:01.646Z"
   },
   {
    "duration": 10,
    "start_time": "2023-07-26T09:35:03.512Z"
   },
   {
    "duration": 6,
    "start_time": "2023-07-26T09:35:15.127Z"
   },
   {
    "duration": 7,
    "start_time": "2023-07-26T09:37:02.042Z"
   },
   {
    "duration": 62,
    "start_time": "2023-07-26T09:38:41.604Z"
   },
   {
    "duration": 101,
    "start_time": "2023-07-26T09:38:49.974Z"
   },
   {
    "duration": 6,
    "start_time": "2023-07-26T09:44:11.254Z"
   },
   {
    "duration": 8,
    "start_time": "2023-07-26T09:44:40.603Z"
   },
   {
    "duration": 16,
    "start_time": "2023-07-26T09:45:35.369Z"
   },
   {
    "duration": 73,
    "start_time": "2023-07-26T09:46:44.994Z"
   },
   {
    "duration": 16,
    "start_time": "2023-07-26T09:46:51.070Z"
   },
   {
    "duration": 6,
    "start_time": "2023-07-26T09:47:09.582Z"
   },
   {
    "duration": 16,
    "start_time": "2023-07-26T09:47:12.716Z"
   },
   {
    "duration": 11801,
    "start_time": "2023-07-26T09:52:30.507Z"
   },
   {
    "duration": 11526,
    "start_time": "2023-07-26T09:53:19.760Z"
   },
   {
    "duration": 85,
    "start_time": "2023-07-26T09:59:38.705Z"
   },
   {
    "duration": 15,
    "start_time": "2023-07-26T09:59:43.497Z"
   },
   {
    "duration": 152,
    "start_time": "2023-07-26T09:59:51.691Z"
   },
   {
    "duration": 53,
    "start_time": "2023-07-26T10:00:24.539Z"
   },
   {
    "duration": 58,
    "start_time": "2023-07-26T10:00:36.845Z"
   },
   {
    "duration": 19,
    "start_time": "2023-07-26T10:01:17.861Z"
   },
   {
    "duration": 11847,
    "start_time": "2023-07-26T10:01:37.884Z"
   },
   {
    "duration": 149,
    "start_time": "2023-07-26T10:02:15.891Z"
   },
   {
    "duration": 55,
    "start_time": "2023-07-26T10:02:18.524Z"
   },
   {
    "duration": 5,
    "start_time": "2023-07-26T10:04:07.378Z"
   },
   {
    "duration": 22,
    "start_time": "2023-07-26T10:04:53.144Z"
   },
   {
    "duration": 4,
    "start_time": "2023-07-26T10:05:07.296Z"
   },
   {
    "duration": 5,
    "start_time": "2023-07-26T10:05:10.604Z"
   },
   {
    "duration": 26,
    "start_time": "2023-07-26T10:05:11.841Z"
   },
   {
    "duration": 86,
    "start_time": "2023-07-26T10:05:17.220Z"
   },
   {
    "duration": 13,
    "start_time": "2023-07-26T10:05:21.629Z"
   },
   {
    "duration": 15,
    "start_time": "2023-07-26T10:05:33.858Z"
   },
   {
    "duration": 6,
    "start_time": "2023-07-26T10:06:33.449Z"
   },
   {
    "duration": 16,
    "start_time": "2023-07-26T10:07:09.089Z"
   },
   {
    "duration": 225,
    "start_time": "2023-07-26T10:07:42.749Z"
   },
   {
    "duration": 56,
    "start_time": "2023-07-26T10:07:47.695Z"
   },
   {
    "duration": 14,
    "start_time": "2023-07-26T10:08:57.178Z"
   },
   {
    "duration": 14,
    "start_time": "2023-07-26T10:09:11.738Z"
   },
   {
    "duration": 17,
    "start_time": "2023-07-26T10:09:36.418Z"
   },
   {
    "duration": 36,
    "start_time": "2023-07-26T10:11:39.065Z"
   },
   {
    "duration": 4,
    "start_time": "2023-07-26T10:11:52.881Z"
   },
   {
    "duration": 107,
    "start_time": "2023-07-26T10:11:58.842Z"
   },
   {
    "duration": 113,
    "start_time": "2023-07-26T10:12:11.281Z"
   },
   {
    "duration": 97,
    "start_time": "2023-07-26T10:12:18.909Z"
   },
   {
    "duration": 91,
    "start_time": "2023-07-26T10:12:27.217Z"
   },
   {
    "duration": 103,
    "start_time": "2023-07-26T10:13:10.156Z"
   },
   {
    "duration": 17,
    "start_time": "2023-07-26T10:15:17.700Z"
   },
   {
    "duration": 20,
    "start_time": "2023-07-26T10:15:24.105Z"
   },
   {
    "duration": 15,
    "start_time": "2023-07-26T10:15:29.519Z"
   },
   {
    "duration": 182,
    "start_time": "2023-07-26T12:14:46.605Z"
   },
   {
    "duration": 186,
    "start_time": "2023-07-26T12:15:00.136Z"
   },
   {
    "duration": 181,
    "start_time": "2023-07-26T12:15:43.023Z"
   },
   {
    "duration": 24,
    "start_time": "2023-07-26T12:16:30.121Z"
   },
   {
    "duration": 40,
    "start_time": "2023-07-26T12:16:33.766Z"
   },
   {
    "duration": 8,
    "start_time": "2023-07-26T12:16:37.742Z"
   },
   {
    "duration": 5,
    "start_time": "2023-07-26T12:16:45.449Z"
   },
   {
    "duration": 17,
    "start_time": "2023-07-26T12:16:46.721Z"
   },
   {
    "duration": 28,
    "start_time": "2023-07-26T12:16:57.511Z"
   },
   {
    "duration": 24,
    "start_time": "2023-07-26T12:16:59.799Z"
   },
   {
    "duration": 10,
    "start_time": "2023-07-26T12:17:05.111Z"
   },
   {
    "duration": 128,
    "start_time": "2023-07-26T12:17:22.203Z"
   },
   {
    "duration": 9,
    "start_time": "2023-07-26T12:17:36.626Z"
   },
   {
    "duration": 12,
    "start_time": "2023-07-26T12:18:04.204Z"
   },
   {
    "duration": 507,
    "start_time": "2023-07-26T12:18:19.111Z"
   },
   {
    "duration": 9,
    "start_time": "2023-07-26T12:18:22.711Z"
   },
   {
    "duration": 60432,
    "start_time": "2023-07-26T12:19:20.262Z"
   },
   {
    "duration": 57646,
    "start_time": "2023-07-26T12:22:39.633Z"
   },
   {
    "duration": 55025,
    "start_time": "2023-07-26T12:23:58.630Z"
   },
   {
    "duration": 12,
    "start_time": "2023-07-26T12:25:47.420Z"
   },
   {
    "duration": 4,
    "start_time": "2023-07-26T12:25:49.548Z"
   },
   {
    "duration": 3,
    "start_time": "2023-07-26T12:25:53.213Z"
   },
   {
    "duration": 32,
    "start_time": "2023-07-26T12:27:23.797Z"
   },
   {
    "duration": 4,
    "start_time": "2023-07-26T12:27:43.858Z"
   },
   {
    "duration": 146,
    "start_time": "2023-07-26T12:27:49.247Z"
   },
   {
    "duration": 26,
    "start_time": "2023-07-26T12:27:51.468Z"
   },
   {
    "duration": 12,
    "start_time": "2023-07-26T12:27:53.405Z"
   },
   {
    "duration": 12,
    "start_time": "2023-07-26T12:27:55.803Z"
   },
   {
    "duration": 7,
    "start_time": "2023-07-26T12:27:57.898Z"
   },
   {
    "duration": 26,
    "start_time": "2023-07-26T12:27:59.923Z"
   },
   {
    "duration": 13,
    "start_time": "2023-07-26T12:28:01.994Z"
   },
   {
    "duration": 4,
    "start_time": "2023-07-26T12:28:17.923Z"
   },
   {
    "duration": 95,
    "start_time": "2023-07-26T12:28:19.858Z"
   },
   {
    "duration": 12,
    "start_time": "2023-07-26T12:28:22.015Z"
   },
   {
    "duration": 12,
    "start_time": "2023-07-26T12:28:24.043Z"
   },
   {
    "duration": 31,
    "start_time": "2023-07-26T12:28:27.059Z"
   },
   {
    "duration": 6,
    "start_time": "2023-07-26T12:28:28.455Z"
   },
   {
    "duration": 10,
    "start_time": "2023-07-26T12:28:30.298Z"
   },
   {
    "duration": 4,
    "start_time": "2023-07-26T12:28:31.718Z"
   },
   {
    "duration": 47,
    "start_time": "2023-07-26T12:28:34.059Z"
   },
   {
    "duration": 3,
    "start_time": "2023-07-26T12:28:57.344Z"
   },
   {
    "duration": 35,
    "start_time": "2023-07-26T12:29:02.538Z"
   },
   {
    "duration": 1213,
    "start_time": "2023-07-26T12:29:07.827Z"
   },
   {
    "duration": 96,
    "start_time": "2023-07-26T12:29:09.043Z"
   },
   {
    "duration": 15,
    "start_time": "2023-07-26T12:29:09.142Z"
   },
   {
    "duration": 43,
    "start_time": "2023-07-26T12:29:09.159Z"
   },
   {
    "duration": 27,
    "start_time": "2023-07-26T12:29:09.205Z"
   },
   {
    "duration": 37,
    "start_time": "2023-07-26T12:29:09.234Z"
   },
   {
    "duration": 40,
    "start_time": "2023-07-26T12:29:09.280Z"
   },
   {
    "duration": 37,
    "start_time": "2023-07-26T12:29:09.321Z"
   },
   {
    "duration": 46,
    "start_time": "2023-07-26T12:29:09.360Z"
   },
   {
    "duration": 39,
    "start_time": "2023-07-26T12:29:09.408Z"
   },
   {
    "duration": 42,
    "start_time": "2023-07-26T12:29:09.449Z"
   },
   {
    "duration": 89,
    "start_time": "2023-07-26T12:29:09.493Z"
   },
   {
    "duration": 97,
    "start_time": "2023-07-26T12:29:09.584Z"
   },
   {
    "duration": 608,
    "start_time": "2023-07-26T12:29:09.690Z"
   },
   {
    "duration": 8,
    "start_time": "2023-07-26T12:29:10.300Z"
   },
   {
    "duration": 54336,
    "start_time": "2023-07-26T12:29:10.309Z"
   },
   {
    "duration": 7,
    "start_time": "2023-07-26T12:30:04.648Z"
   },
   {
    "duration": 46,
    "start_time": "2023-07-26T12:30:04.667Z"
   },
   {
    "duration": 15,
    "start_time": "2023-07-26T12:30:04.716Z"
   },
   {
    "duration": 16,
    "start_time": "2023-07-26T12:30:04.733Z"
   },
   {
    "duration": 46,
    "start_time": "2023-07-26T12:30:04.751Z"
   },
   {
    "duration": 24,
    "start_time": "2023-07-26T12:30:04.805Z"
   },
   {
    "duration": 34,
    "start_time": "2023-07-26T12:30:04.832Z"
   },
   {
    "duration": 30,
    "start_time": "2023-07-26T12:30:04.870Z"
   },
   {
    "duration": 14,
    "start_time": "2023-07-26T12:30:04.912Z"
   },
   {
    "duration": 155,
    "start_time": "2023-07-26T12:30:04.929Z"
   },
   {
    "duration": 15,
    "start_time": "2023-07-26T12:30:05.090Z"
   },
   {
    "duration": 23,
    "start_time": "2023-07-26T12:31:09.461Z"
   },
   {
    "duration": 19,
    "start_time": "2023-07-26T12:31:22.038Z"
   },
   {
    "duration": 49,
    "start_time": "2023-07-26T12:31:24.046Z"
   },
   {
    "duration": 117,
    "start_time": "2023-07-26T12:33:31.045Z"
   },
   {
    "duration": 5,
    "start_time": "2023-07-26T12:33:34.050Z"
   },
   {
    "duration": 15,
    "start_time": "2023-07-26T12:33:35.627Z"
   },
   {
    "duration": 80,
    "start_time": "2023-07-26T12:33:58.997Z"
   },
   {
    "duration": 537,
    "start_time": "2023-07-26T12:34:22.819Z"
   },
   {
    "duration": 54706,
    "start_time": "2023-07-26T12:35:08.617Z"
   },
   {
    "duration": 6,
    "start_time": "2023-07-26T12:36:22.126Z"
   },
   {
    "duration": 44,
    "start_time": "2023-07-26T12:37:10.454Z"
   },
   {
    "duration": 4,
    "start_time": "2023-07-26T12:37:19.351Z"
   },
   {
    "duration": 25,
    "start_time": "2023-07-26T12:37:24.080Z"
   },
   {
    "duration": 60,
    "start_time": "2023-07-26T12:37:38.042Z"
   },
   {
    "duration": 113,
    "start_time": "2023-07-26T12:37:55.048Z"
   },
   {
    "duration": 87,
    "start_time": "2023-07-26T12:38:57.401Z"
   },
   {
    "duration": 222,
    "start_time": "2023-07-26T12:39:02.603Z"
   },
   {
    "duration": 36,
    "start_time": "2023-07-26T12:39:13.036Z"
   },
   {
    "duration": 196,
    "start_time": "2023-07-26T12:39:26.299Z"
   },
   {
    "duration": 287,
    "start_time": "2023-07-26T12:39:38.305Z"
   },
   {
    "duration": 236,
    "start_time": "2023-07-26T12:40:54.633Z"
   },
   {
    "duration": 244,
    "start_time": "2023-07-26T12:41:32.807Z"
   },
   {
    "duration": 253,
    "start_time": "2023-07-26T12:41:40.648Z"
   },
   {
    "duration": 232,
    "start_time": "2023-07-26T12:42:04.664Z"
   },
   {
    "duration": 234,
    "start_time": "2023-07-26T12:42:20.774Z"
   },
   {
    "duration": 5,
    "start_time": "2023-07-26T12:42:40.800Z"
   },
   {
    "duration": 26,
    "start_time": "2023-07-26T12:43:28.748Z"
   },
   {
    "duration": 6,
    "start_time": "2023-07-26T12:45:08.991Z"
   },
   {
    "duration": 5,
    "start_time": "2023-07-26T12:45:23.564Z"
   },
   {
    "duration": 32,
    "start_time": "2023-07-26T12:46:53.409Z"
   },
   {
    "duration": 491,
    "start_time": "2023-07-26T12:47:05.466Z"
   },
   {
    "duration": 6,
    "start_time": "2023-07-26T12:47:09.630Z"
   },
   {
    "duration": 171,
    "start_time": "2023-07-26T12:47:14.390Z"
   },
   {
    "duration": 175,
    "start_time": "2023-07-26T12:47:48.603Z"
   },
   {
    "duration": 170,
    "start_time": "2023-07-26T12:51:30.344Z"
   },
   {
    "duration": 7,
    "start_time": "2023-07-26T12:52:36.672Z"
   },
   {
    "duration": 255,
    "start_time": "2023-07-26T12:53:54.204Z"
   },
   {
    "duration": 142,
    "start_time": "2023-07-26T12:55:19.822Z"
   },
   {
    "duration": 151,
    "start_time": "2023-07-26T12:55:35.636Z"
   },
   {
    "duration": 81,
    "start_time": "2023-07-26T13:12:36.218Z"
   },
   {
    "duration": 89,
    "start_time": "2023-07-26T13:12:37.524Z"
   },
   {
    "duration": 200,
    "start_time": "2023-07-26T13:13:01.170Z"
   },
   {
    "duration": 11,
    "start_time": "2023-07-26T13:14:28.310Z"
   },
   {
    "duration": 12,
    "start_time": "2023-07-26T13:14:35.539Z"
   },
   {
    "duration": 13,
    "start_time": "2023-07-26T13:14:39.540Z"
   },
   {
    "duration": 11,
    "start_time": "2023-07-26T13:14:40.218Z"
   },
   {
    "duration": 78,
    "start_time": "2023-07-26T13:14:44.693Z"
   },
   {
    "duration": 50018,
    "start_time": "2023-07-26T13:19:48.463Z"
   },
   {
    "duration": 38,
    "start_time": "2023-07-26T13:25:58.653Z"
   },
   {
    "duration": 5,
    "start_time": "2023-07-26T13:28:26.996Z"
   },
   {
    "duration": 19,
    "start_time": "2023-07-26T13:28:28.952Z"
   },
   {
    "duration": 50,
    "start_time": "2023-07-26T13:29:22.638Z"
   },
   {
    "duration": 43,
    "start_time": "2023-07-26T13:29:55.915Z"
   },
   {
    "duration": 35,
    "start_time": "2023-07-26T13:32:11.230Z"
   },
   {
    "duration": 5,
    "start_time": "2023-07-26T13:32:15.010Z"
   },
   {
    "duration": 127,
    "start_time": "2023-07-26T13:32:17.147Z"
   },
   {
    "duration": 138,
    "start_time": "2023-07-26T13:32:19.711Z"
   },
   {
    "duration": 1503,
    "start_time": "2023-07-26T13:35:35.246Z"
   },
   {
    "duration": 133,
    "start_time": "2023-07-26T13:35:36.751Z"
   },
   {
    "duration": 14,
    "start_time": "2023-07-26T13:35:36.886Z"
   },
   {
    "duration": 21,
    "start_time": "2023-07-26T13:35:36.903Z"
   },
   {
    "duration": 51,
    "start_time": "2023-07-26T13:35:36.926Z"
   },
   {
    "duration": 42,
    "start_time": "2023-07-26T13:35:36.978Z"
   },
   {
    "duration": 25,
    "start_time": "2023-07-26T13:35:37.022Z"
   },
   {
    "duration": 38,
    "start_time": "2023-07-26T13:35:37.049Z"
   },
   {
    "duration": 18,
    "start_time": "2023-07-26T13:35:37.089Z"
   },
   {
    "duration": 87,
    "start_time": "2023-07-26T13:35:37.111Z"
   },
   {
    "duration": 125,
    "start_time": "2023-07-26T13:35:37.200Z"
   },
   {
    "duration": 54,
    "start_time": "2023-07-26T13:35:37.328Z"
   },
   {
    "duration": 87,
    "start_time": "2023-07-26T13:35:37.384Z"
   },
   {
    "duration": 683,
    "start_time": "2023-07-26T13:35:37.473Z"
   },
   {
    "duration": 49338,
    "start_time": "2023-07-26T13:35:38.158Z"
   },
   {
    "duration": 7,
    "start_time": "2023-07-26T13:36:27.498Z"
   },
   {
    "duration": 51,
    "start_time": "2023-07-26T13:36:27.507Z"
   },
   {
    "duration": 5,
    "start_time": "2023-07-26T13:36:27.566Z"
   },
   {
    "duration": 57,
    "start_time": "2023-07-26T13:36:27.573Z"
   },
   {
    "duration": 42,
    "start_time": "2023-07-26T13:36:27.632Z"
   },
   {
    "duration": 35,
    "start_time": "2023-07-26T13:36:27.676Z"
   },
   {
    "duration": 4,
    "start_time": "2023-07-26T13:36:27.714Z"
   },
   {
    "duration": 192,
    "start_time": "2023-07-26T13:36:27.721Z"
   },
   {
    "duration": 221,
    "start_time": "2023-07-26T13:36:27.914Z"
   },
   {
    "duration": 1705,
    "start_time": "2023-07-26T13:40:18.178Z"
   },
   {
    "duration": 85,
    "start_time": "2023-07-26T13:40:19.886Z"
   },
   {
    "duration": 20,
    "start_time": "2023-07-26T13:40:19.974Z"
   },
   {
    "duration": 64,
    "start_time": "2023-07-26T13:40:19.998Z"
   },
   {
    "duration": 46,
    "start_time": "2023-07-26T13:40:20.064Z"
   },
   {
    "duration": 45,
    "start_time": "2023-07-26T13:40:20.112Z"
   },
   {
    "duration": 52,
    "start_time": "2023-07-26T13:40:20.158Z"
   },
   {
    "duration": 50,
    "start_time": "2023-07-26T13:40:20.213Z"
   },
   {
    "duration": 30,
    "start_time": "2023-07-26T13:40:20.265Z"
   },
   {
    "duration": 55,
    "start_time": "2023-07-26T13:40:20.299Z"
   },
   {
    "duration": 4,
    "start_time": "2023-07-26T13:40:20.357Z"
   },
   {
    "duration": 33,
    "start_time": "2023-07-26T13:40:20.364Z"
   },
   {
    "duration": 174,
    "start_time": "2023-07-26T13:40:20.399Z"
   },
   {
    "duration": 569,
    "start_time": "2023-07-26T13:40:20.575Z"
   },
   {
    "duration": 51338,
    "start_time": "2023-07-26T13:40:21.146Z"
   },
   {
    "duration": 6,
    "start_time": "2023-07-26T13:41:12.486Z"
   },
   {
    "duration": 40,
    "start_time": "2023-07-26T13:41:12.494Z"
   },
   {
    "duration": 5,
    "start_time": "2023-07-26T13:41:12.535Z"
   },
   {
    "duration": 44,
    "start_time": "2023-07-26T13:41:12.542Z"
   },
   {
    "duration": 55,
    "start_time": "2023-07-26T13:41:12.588Z"
   },
   {
    "duration": 40,
    "start_time": "2023-07-26T13:41:12.646Z"
   },
   {
    "duration": 4,
    "start_time": "2023-07-26T13:41:12.688Z"
   },
   {
    "duration": 160,
    "start_time": "2023-07-26T13:41:12.694Z"
   },
   {
    "duration": 225,
    "start_time": "2023-07-26T13:41:12.856Z"
   },
   {
    "duration": 1388,
    "start_time": "2023-07-27T06:14:29.157Z"
   },
   {
    "duration": 391,
    "start_time": "2023-07-27T06:14:30.547Z"
   },
   {
    "duration": 0,
    "start_time": "2023-07-27T06:14:30.940Z"
   },
   {
    "duration": 0,
    "start_time": "2023-07-27T06:14:30.942Z"
   },
   {
    "duration": 0,
    "start_time": "2023-07-27T06:14:30.943Z"
   },
   {
    "duration": 0,
    "start_time": "2023-07-27T06:14:30.943Z"
   },
   {
    "duration": 0,
    "start_time": "2023-07-27T06:14:30.944Z"
   },
   {
    "duration": 0,
    "start_time": "2023-07-27T06:14:30.946Z"
   },
   {
    "duration": 0,
    "start_time": "2023-07-27T06:14:30.947Z"
   },
   {
    "duration": 0,
    "start_time": "2023-07-27T06:14:30.948Z"
   },
   {
    "duration": 0,
    "start_time": "2023-07-27T06:14:30.949Z"
   },
   {
    "duration": 0,
    "start_time": "2023-07-27T06:14:30.949Z"
   },
   {
    "duration": 0,
    "start_time": "2023-07-27T06:14:30.950Z"
   },
   {
    "duration": 0,
    "start_time": "2023-07-27T06:14:30.951Z"
   },
   {
    "duration": 0,
    "start_time": "2023-07-27T06:14:30.952Z"
   },
   {
    "duration": 0,
    "start_time": "2023-07-27T06:14:30.952Z"
   },
   {
    "duration": 0,
    "start_time": "2023-07-27T06:14:30.953Z"
   },
   {
    "duration": 0,
    "start_time": "2023-07-27T06:14:30.954Z"
   },
   {
    "duration": 0,
    "start_time": "2023-07-27T06:14:30.955Z"
   },
   {
    "duration": 0,
    "start_time": "2023-07-27T06:14:30.956Z"
   },
   {
    "duration": 0,
    "start_time": "2023-07-27T06:14:30.956Z"
   },
   {
    "duration": 0,
    "start_time": "2023-07-27T06:14:30.957Z"
   },
   {
    "duration": 0,
    "start_time": "2023-07-27T06:14:30.958Z"
   },
   {
    "duration": 0,
    "start_time": "2023-07-27T06:14:30.958Z"
   },
   {
    "duration": 52,
    "start_time": "2023-07-27T06:22:34.049Z"
   },
   {
    "duration": 16,
    "start_time": "2023-07-27T06:22:43.107Z"
   },
   {
    "duration": 12,
    "start_time": "2023-07-27T06:22:43.124Z"
   },
   {
    "duration": 10,
    "start_time": "2023-07-27T06:22:43.138Z"
   },
   {
    "duration": 5,
    "start_time": "2023-07-27T06:22:43.150Z"
   },
   {
    "duration": 6,
    "start_time": "2023-07-27T06:22:43.157Z"
   },
   {
    "duration": 5,
    "start_time": "2023-07-27T06:22:43.164Z"
   },
   {
    "duration": 29,
    "start_time": "2023-07-27T06:22:43.171Z"
   },
   {
    "duration": 51,
    "start_time": "2023-07-27T06:22:43.202Z"
   },
   {
    "duration": 2,
    "start_time": "2023-07-27T06:22:43.255Z"
   },
   {
    "duration": 18,
    "start_time": "2023-07-27T06:22:43.260Z"
   },
   {
    "duration": 15,
    "start_time": "2023-07-27T06:22:43.279Z"
   },
   {
    "duration": 0,
    "start_time": "2023-07-27T06:22:43.295Z"
   },
   {
    "duration": 0,
    "start_time": "2023-07-27T06:22:43.296Z"
   },
   {
    "duration": 0,
    "start_time": "2023-07-27T06:22:43.297Z"
   },
   {
    "duration": 0,
    "start_time": "2023-07-27T06:22:43.298Z"
   },
   {
    "duration": 1,
    "start_time": "2023-07-27T06:22:43.298Z"
   },
   {
    "duration": 0,
    "start_time": "2023-07-27T06:22:43.300Z"
   },
   {
    "duration": 0,
    "start_time": "2023-07-27T06:22:43.300Z"
   },
   {
    "duration": 0,
    "start_time": "2023-07-27T06:22:43.301Z"
   },
   {
    "duration": 0,
    "start_time": "2023-07-27T06:22:43.302Z"
   },
   {
    "duration": 0,
    "start_time": "2023-07-27T06:22:43.304Z"
   },
   {
    "duration": 0,
    "start_time": "2023-07-27T06:22:43.304Z"
   },
   {
    "duration": 24,
    "start_time": "2023-07-27T07:18:35.045Z"
   },
   {
    "duration": 0,
    "start_time": "2023-07-27T07:18:35.071Z"
   },
   {
    "duration": 0,
    "start_time": "2023-07-27T07:18:35.072Z"
   },
   {
    "duration": 0,
    "start_time": "2023-07-27T07:18:35.074Z"
   },
   {
    "duration": 0,
    "start_time": "2023-07-27T07:18:35.075Z"
   },
   {
    "duration": 0,
    "start_time": "2023-07-27T07:18:35.076Z"
   },
   {
    "duration": 0,
    "start_time": "2023-07-27T07:18:35.077Z"
   },
   {
    "duration": 0,
    "start_time": "2023-07-27T07:18:35.078Z"
   },
   {
    "duration": 0,
    "start_time": "2023-07-27T07:18:35.079Z"
   },
   {
    "duration": 0,
    "start_time": "2023-07-27T07:18:35.081Z"
   },
   {
    "duration": 0,
    "start_time": "2023-07-27T07:18:35.082Z"
   },
   {
    "duration": 18,
    "start_time": "2023-07-27T07:21:04.543Z"
   },
   {
    "duration": 0,
    "start_time": "2023-07-27T07:21:04.563Z"
   },
   {
    "duration": 0,
    "start_time": "2023-07-27T07:21:04.565Z"
   },
   {
    "duration": 0,
    "start_time": "2023-07-27T07:21:04.566Z"
   },
   {
    "duration": 0,
    "start_time": "2023-07-27T07:21:04.567Z"
   },
   {
    "duration": 0,
    "start_time": "2023-07-27T07:21:04.569Z"
   },
   {
    "duration": 0,
    "start_time": "2023-07-27T07:21:04.570Z"
   },
   {
    "duration": 0,
    "start_time": "2023-07-27T07:21:04.571Z"
   },
   {
    "duration": 0,
    "start_time": "2023-07-27T07:21:04.572Z"
   },
   {
    "duration": 0,
    "start_time": "2023-07-27T07:21:04.573Z"
   },
   {
    "duration": 231,
    "start_time": "2023-07-27T08:39:46.167Z"
   },
   {
    "duration": 115,
    "start_time": "2023-07-27T08:39:56.428Z"
   },
   {
    "duration": 2188,
    "start_time": "2023-07-27T08:40:08.705Z"
   },
   {
    "duration": 67,
    "start_time": "2023-07-27T08:41:21.379Z"
   },
   {
    "duration": 153,
    "start_time": "2023-07-27T08:41:42.933Z"
   },
   {
    "duration": 20,
    "start_time": "2023-07-27T08:41:57.656Z"
   },
   {
    "duration": 103,
    "start_time": "2023-07-27T08:43:11.301Z"
   },
   {
    "duration": 15,
    "start_time": "2023-07-27T08:43:14.916Z"
   },
   {
    "duration": 9,
    "start_time": "2023-07-27T08:46:43.627Z"
   },
   {
    "duration": 14,
    "start_time": "2023-07-27T08:48:35.624Z"
   },
   {
    "duration": 4,
    "start_time": "2023-07-27T08:48:49.696Z"
   },
   {
    "duration": 14,
    "start_time": "2023-07-27T08:48:59.085Z"
   },
   {
    "duration": 13,
    "start_time": "2023-07-27T08:49:05.508Z"
   },
   {
    "duration": 7,
    "start_time": "2023-07-27T08:49:57.485Z"
   },
   {
    "duration": 11,
    "start_time": "2023-07-27T08:50:55.645Z"
   },
   {
    "duration": 49,
    "start_time": "2023-07-28T13:29:19.120Z"
   },
   {
    "duration": 1681,
    "start_time": "2023-07-28T13:29:51.562Z"
   },
   {
    "duration": 238,
    "start_time": "2023-07-28T13:29:55.164Z"
   },
   {
    "duration": 15,
    "start_time": "2023-07-28T13:30:03.042Z"
   },
   {
    "duration": 113,
    "start_time": "2023-07-28T13:30:08.151Z"
   },
   {
    "duration": 30,
    "start_time": "2023-07-28T13:30:10.505Z"
   },
   {
    "duration": 18,
    "start_time": "2023-07-28T13:30:14.600Z"
   },
   {
    "duration": 123,
    "start_time": "2023-07-28T13:30:38.324Z"
   },
   {
    "duration": 5,
    "start_time": "2023-07-28T13:30:42.262Z"
   },
   {
    "duration": 103,
    "start_time": "2023-07-28T13:30:55.702Z"
   },
   {
    "duration": 43,
    "start_time": "2023-07-28T13:30:58.112Z"
   },
   {
    "duration": 11,
    "start_time": "2023-07-28T13:30:59.838Z"
   },
   {
    "duration": 66,
    "start_time": "2023-07-28T13:31:19.407Z"
   },
   {
    "duration": 16,
    "start_time": "2023-07-28T13:31:22.795Z"
   },
   {
    "duration": 42,
    "start_time": "2023-07-28T13:31:45.905Z"
   },
   {
    "duration": 62,
    "start_time": "2023-07-28T13:32:00.937Z"
   },
   {
    "duration": 14,
    "start_time": "2023-07-28T13:32:04.711Z"
   },
   {
    "duration": 6,
    "start_time": "2023-07-28T13:32:06.749Z"
   },
   {
    "duration": 4,
    "start_time": "2023-07-28T13:32:13.318Z"
   },
   {
    "duration": 7,
    "start_time": "2023-07-28T13:32:24.655Z"
   },
   {
    "duration": 4,
    "start_time": "2023-07-28T13:33:20.253Z"
   },
   {
    "duration": 5,
    "start_time": "2023-07-28T13:33:21.725Z"
   },
   {
    "duration": 4,
    "start_time": "2023-07-28T13:33:29.016Z"
   },
   {
    "duration": 7,
    "start_time": "2023-07-28T13:33:30.417Z"
   },
   {
    "duration": 8,
    "start_time": "2023-07-28T13:33:49.203Z"
   },
   {
    "duration": 40,
    "start_time": "2023-07-28T13:33:58.209Z"
   },
   {
    "duration": 34,
    "start_time": "2023-07-28T13:34:01.363Z"
   },
   {
    "duration": 16,
    "start_time": "2023-07-28T13:34:04.003Z"
   },
   {
    "duration": 5,
    "start_time": "2023-07-28T13:34:06.331Z"
   },
   {
    "duration": 11,
    "start_time": "2023-07-28T13:34:07.702Z"
   },
   {
    "duration": 11,
    "start_time": "2023-07-28T13:34:58.898Z"
   },
   {
    "duration": 5,
    "start_time": "2023-07-28T13:35:05.637Z"
   },
   {
    "duration": 14,
    "start_time": "2023-07-28T13:35:07.115Z"
   },
   {
    "duration": 17,
    "start_time": "2023-07-28T13:35:10.036Z"
   },
   {
    "duration": 40,
    "start_time": "2023-07-28T13:35:26.617Z"
   },
   {
    "duration": 4,
    "start_time": "2023-07-28T13:35:30.660Z"
   },
   {
    "duration": 6,
    "start_time": "2023-07-28T13:35:34.300Z"
   },
   {
    "duration": 7,
    "start_time": "2023-07-28T13:35:35.762Z"
   },
   {
    "duration": 11,
    "start_time": "2023-07-28T13:36:34.243Z"
   },
   {
    "duration": 10,
    "start_time": "2023-07-28T13:36:40.610Z"
   },
   {
    "duration": 17,
    "start_time": "2023-07-28T13:36:53.370Z"
   },
   {
    "duration": 4,
    "start_time": "2023-07-28T13:36:54.409Z"
   },
   {
    "duration": 156,
    "start_time": "2023-07-28T13:38:19.816Z"
   },
   {
    "duration": 9,
    "start_time": "2023-07-28T13:38:33.216Z"
   },
   {
    "duration": 167,
    "start_time": "2023-07-28T13:38:37.055Z"
   },
   {
    "duration": 139,
    "start_time": "2023-07-28T13:39:05.908Z"
   },
   {
    "duration": 199,
    "start_time": "2023-07-28T13:40:07.130Z"
   },
   {
    "duration": 240,
    "start_time": "2023-07-28T13:40:09.662Z"
   },
   {
    "duration": 387,
    "start_time": "2023-07-28T13:41:04.773Z"
   },
   {
    "duration": 392,
    "start_time": "2023-07-28T13:41:26.515Z"
   },
   {
    "duration": 385,
    "start_time": "2023-07-28T13:41:38.712Z"
   },
   {
    "duration": 575,
    "start_time": "2023-07-28T13:41:58.324Z"
   },
   {
    "duration": 518,
    "start_time": "2023-07-28T13:42:13.468Z"
   },
   {
    "duration": 503,
    "start_time": "2023-07-28T13:42:27.964Z"
   },
   {
    "duration": 462,
    "start_time": "2023-07-28T13:43:30.840Z"
   },
   {
    "duration": 497,
    "start_time": "2023-07-28T13:43:46.324Z"
   },
   {
    "duration": 367,
    "start_time": "2023-07-28T13:44:08.646Z"
   },
   {
    "duration": 367,
    "start_time": "2023-07-28T13:44:53.248Z"
   },
   {
    "duration": 449,
    "start_time": "2023-07-28T13:46:26.757Z"
   },
   {
    "duration": 350,
    "start_time": "2023-07-28T13:46:33.448Z"
   },
   {
    "duration": 470,
    "start_time": "2023-07-28T13:46:45.078Z"
   },
   {
    "duration": 432,
    "start_time": "2023-07-28T13:47:49.399Z"
   },
   {
    "duration": 479,
    "start_time": "2023-07-28T13:47:51.525Z"
   },
   {
    "duration": 37,
    "start_time": "2023-07-28T13:48:08.466Z"
   },
   {
    "duration": 16,
    "start_time": "2023-07-28T13:49:35.891Z"
   },
   {
    "duration": 18,
    "start_time": "2023-07-28T13:49:55.700Z"
   },
   {
    "duration": 3,
    "start_time": "2023-07-28T13:50:29.713Z"
   },
   {
    "duration": 51,
    "start_time": "2023-07-28T13:50:29.719Z"
   },
   {
    "duration": 24,
    "start_time": "2023-07-28T13:50:29.772Z"
   },
   {
    "duration": 27,
    "start_time": "2023-07-28T13:50:29.798Z"
   },
   {
    "duration": 4,
    "start_time": "2023-07-28T13:50:29.827Z"
   },
   {
    "duration": 38,
    "start_time": "2023-07-28T13:50:29.833Z"
   },
   {
    "duration": 27,
    "start_time": "2023-07-28T13:50:29.872Z"
   },
   {
    "duration": 11,
    "start_time": "2023-07-28T13:50:29.902Z"
   },
   {
    "duration": 19,
    "start_time": "2023-07-28T13:50:29.915Z"
   },
   {
    "duration": 28,
    "start_time": "2023-07-28T13:50:29.936Z"
   },
   {
    "duration": 27,
    "start_time": "2023-07-28T13:50:32.751Z"
   },
   {
    "duration": 12,
    "start_time": "2023-07-28T13:50:44.678Z"
   },
   {
    "duration": 4,
    "start_time": "2023-07-28T13:50:47.054Z"
   },
   {
    "duration": 4,
    "start_time": "2023-07-28T13:50:56.768Z"
   },
   {
    "duration": 7,
    "start_time": "2023-07-28T13:51:04.460Z"
   },
   {
    "duration": 3,
    "start_time": "2023-07-28T13:51:15.149Z"
   },
   {
    "duration": 8,
    "start_time": "2023-07-28T13:52:05.746Z"
   },
   {
    "duration": 21,
    "start_time": "2023-07-28T13:52:07.964Z"
   },
   {
    "duration": 19,
    "start_time": "2023-07-28T13:52:33.932Z"
   },
   {
    "duration": 4,
    "start_time": "2023-07-28T13:52:37.012Z"
   },
   {
    "duration": 448,
    "start_time": "2023-07-28T13:52:38.500Z"
   },
   {
    "duration": 3,
    "start_time": "2023-07-28T13:54:18.637Z"
   },
   {
    "duration": 6,
    "start_time": "2023-07-28T13:54:33.860Z"
   },
   {
    "duration": 5,
    "start_time": "2023-07-28T13:54:39.362Z"
   },
   {
    "duration": 12,
    "start_time": "2023-07-28T13:55:00.334Z"
   },
   {
    "duration": 4,
    "start_time": "2023-07-28T13:55:01.447Z"
   },
   {
    "duration": 5,
    "start_time": "2023-07-28T13:55:02.761Z"
   },
   {
    "duration": 16,
    "start_time": "2023-07-28T13:56:23.911Z"
   },
   {
    "duration": 4,
    "start_time": "2023-07-28T13:56:26.406Z"
   },
   {
    "duration": 3,
    "start_time": "2023-07-28T13:57:16.828Z"
   },
   {
    "duration": 15,
    "start_time": "2023-07-28T13:57:19.805Z"
   },
   {
    "duration": 15,
    "start_time": "2023-07-28T13:57:39.933Z"
   },
   {
    "duration": 5,
    "start_time": "2023-07-28T14:00:02.753Z"
   },
   {
    "duration": 9,
    "start_time": "2023-07-28T14:00:13.604Z"
   },
   {
    "duration": 8,
    "start_time": "2023-07-28T14:00:15.258Z"
   },
   {
    "duration": 4,
    "start_time": "2023-07-28T14:00:16.963Z"
   },
   {
    "duration": 12,
    "start_time": "2023-07-28T14:00:18.900Z"
   },
   {
    "duration": 5,
    "start_time": "2023-07-28T14:00:20.615Z"
   },
   {
    "duration": 4,
    "start_time": "2023-07-28T14:00:32.433Z"
   },
   {
    "duration": 17,
    "start_time": "2023-07-28T14:16:11.902Z"
   },
   {
    "duration": 2603,
    "start_time": "2023-07-28T14:17:19.602Z"
   },
   {
    "duration": 200,
    "start_time": "2023-07-28T14:17:37.356Z"
   },
   {
    "duration": 5,
    "start_time": "2023-07-28T14:26:04.402Z"
   },
   {
    "duration": 17,
    "start_time": "2023-07-28T14:27:05.619Z"
   },
   {
    "duration": 14,
    "start_time": "2023-07-28T14:27:23.214Z"
   },
   {
    "duration": 9,
    "start_time": "2023-07-28T14:28:47.432Z"
   },
   {
    "duration": 10,
    "start_time": "2023-07-28T14:28:55.229Z"
   },
   {
    "duration": 13,
    "start_time": "2023-07-28T14:29:13.901Z"
   },
   {
    "duration": 7,
    "start_time": "2023-07-28T14:29:57.897Z"
   },
   {
    "duration": 26,
    "start_time": "2023-07-28T14:30:28.012Z"
   },
   {
    "duration": 24,
    "start_time": "2023-07-28T14:33:37.418Z"
   },
   {
    "duration": 9,
    "start_time": "2023-07-28T14:33:53.139Z"
   },
   {
    "duration": 38,
    "start_time": "2023-07-28T14:33:58.871Z"
   },
   {
    "duration": 58,
    "start_time": "2023-07-28T14:40:32.510Z"
   },
   {
    "duration": 11,
    "start_time": "2023-07-28T14:41:47.135Z"
   },
   {
    "duration": 31,
    "start_time": "2023-07-28T14:41:55.958Z"
   },
   {
    "duration": 9,
    "start_time": "2023-07-28T14:42:59.627Z"
   },
   {
    "duration": 5,
    "start_time": "2023-07-28T14:43:01.616Z"
   },
   {
    "duration": 5,
    "start_time": "2023-07-28T14:43:04.233Z"
   },
   {
    "duration": 12,
    "start_time": "2023-07-28T14:43:05.851Z"
   },
   {
    "duration": 4,
    "start_time": "2023-07-28T14:43:07.421Z"
   },
   {
    "duration": 3,
    "start_time": "2023-07-28T14:43:09.545Z"
   },
   {
    "duration": 10,
    "start_time": "2023-07-28T14:43:11.216Z"
   },
   {
    "duration": 29,
    "start_time": "2023-07-28T14:43:59.365Z"
   },
   {
    "duration": 36,
    "start_time": "2023-07-28T14:47:46.668Z"
   },
   {
    "duration": 41,
    "start_time": "2023-07-28T14:48:01.114Z"
   },
   {
    "duration": 19,
    "start_time": "2023-07-28T14:48:03.047Z"
   },
   {
    "duration": 4,
    "start_time": "2023-07-28T14:48:47.825Z"
   },
   {
    "duration": 9,
    "start_time": "2023-07-28T14:48:56.120Z"
   },
   {
    "duration": 11,
    "start_time": "2023-07-28T14:48:59.612Z"
   },
   {
    "duration": 24,
    "start_time": "2023-07-28T14:49:03.502Z"
   },
   {
    "duration": 41,
    "start_time": "2023-07-28T14:49:07.298Z"
   },
   {
    "duration": 33,
    "start_time": "2023-07-28T14:49:09.163Z"
   },
   {
    "duration": 11,
    "start_time": "2023-07-28T14:49:23.351Z"
   },
   {
    "duration": 73,
    "start_time": "2023-07-28T14:49:57.750Z"
   },
   {
    "duration": 251,
    "start_time": "2023-07-28T14:54:47.820Z"
   },
   {
    "duration": 257,
    "start_time": "2023-07-28T14:55:03.722Z"
   },
   {
    "duration": 225,
    "start_time": "2023-07-28T14:55:56.693Z"
   },
   {
    "duration": 3290,
    "start_time": "2023-07-29T05:32:43.683Z"
   },
   {
    "duration": 1666,
    "start_time": "2023-07-29T05:32:46.976Z"
   },
   {
    "duration": 2,
    "start_time": "2023-07-29T05:32:48.644Z"
   },
   {
    "duration": 101,
    "start_time": "2023-07-29T05:32:48.648Z"
   },
   {
    "duration": 13,
    "start_time": "2023-07-29T05:32:48.750Z"
   },
   {
    "duration": 17,
    "start_time": "2023-07-29T05:32:48.764Z"
   },
   {
    "duration": 7,
    "start_time": "2023-07-29T05:32:48.782Z"
   },
   {
    "duration": 12,
    "start_time": "2023-07-29T05:32:48.790Z"
   },
   {
    "duration": 43,
    "start_time": "2023-07-29T05:32:48.804Z"
   },
   {
    "duration": 4,
    "start_time": "2023-07-29T05:32:48.850Z"
   },
   {
    "duration": 14,
    "start_time": "2023-07-29T05:32:48.855Z"
   },
   {
    "duration": 7,
    "start_time": "2023-07-29T05:32:48.871Z"
   },
   {
    "duration": 47,
    "start_time": "2023-07-29T05:32:48.880Z"
   },
   {
    "duration": 17,
    "start_time": "2023-07-29T05:32:48.929Z"
   },
   {
    "duration": 17,
    "start_time": "2023-07-29T05:32:48.948Z"
   },
   {
    "duration": 9,
    "start_time": "2023-07-29T05:32:48.967Z"
   },
   {
    "duration": 29,
    "start_time": "2023-07-29T05:32:48.978Z"
   },
   {
    "duration": 28,
    "start_time": "2023-07-29T05:32:49.008Z"
   },
   {
    "duration": 8,
    "start_time": "2023-07-29T05:32:49.038Z"
   },
   {
    "duration": 27,
    "start_time": "2023-07-29T05:32:49.048Z"
   },
   {
    "duration": 7,
    "start_time": "2023-07-29T05:32:49.077Z"
   },
   {
    "duration": 63,
    "start_time": "2023-07-29T05:32:49.086Z"
   },
   {
    "duration": 16,
    "start_time": "2023-07-29T05:32:49.151Z"
   },
   {
    "duration": 9,
    "start_time": "2023-07-29T05:32:49.168Z"
   },
   {
    "duration": 51,
    "start_time": "2023-07-29T05:32:49.178Z"
   },
   {
    "duration": 376,
    "start_time": "2023-07-29T05:33:16.146Z"
   },
   {
    "duration": 17,
    "start_time": "2023-07-29T05:34:20.086Z"
   },
   {
    "duration": 221,
    "start_time": "2023-07-29T05:34:47.903Z"
   },
   {
    "duration": 33255,
    "start_time": "2023-07-29T05:34:58.560Z"
   },
   {
    "duration": 4,
    "start_time": "2023-07-29T05:35:47.953Z"
   },
   {
    "duration": 19,
    "start_time": "2023-07-29T05:36:17.344Z"
   },
   {
    "duration": 5,
    "start_time": "2023-07-29T05:36:36.018Z"
   },
   {
    "duration": 13,
    "start_time": "2023-07-29T05:36:49.689Z"
   },
   {
    "duration": 21,
    "start_time": "2023-07-29T05:36:52.975Z"
   },
   {
    "duration": 18,
    "start_time": "2023-07-29T05:37:22.108Z"
   },
   {
    "duration": 4,
    "start_time": "2023-07-29T05:37:56.355Z"
   },
   {
    "duration": 4,
    "start_time": "2023-07-29T05:37:59.052Z"
   },
   {
    "duration": 7,
    "start_time": "2023-07-29T05:38:03.807Z"
   },
   {
    "duration": 4,
    "start_time": "2023-07-29T05:38:04.941Z"
   },
   {
    "duration": 4,
    "start_time": "2023-07-29T05:38:09.564Z"
   },
   {
    "duration": 11,
    "start_time": "2023-07-29T05:38:11.703Z"
   },
   {
    "duration": 4,
    "start_time": "2023-07-29T05:38:13.482Z"
   },
   {
    "duration": 10,
    "start_time": "2023-07-29T05:38:29.316Z"
   },
   {
    "duration": 3,
    "start_time": "2023-07-29T05:38:55.496Z"
   },
   {
    "duration": 30,
    "start_time": "2023-07-29T05:39:11.334Z"
   },
   {
    "duration": 12,
    "start_time": "2023-07-29T05:39:19.690Z"
   },
   {
    "duration": 12,
    "start_time": "2023-07-29T05:39:21.990Z"
   },
   {
    "duration": 35,
    "start_time": "2023-07-29T05:40:11.591Z"
   },
   {
    "duration": 18,
    "start_time": "2023-07-29T05:40:39.799Z"
   },
   {
    "duration": 8,
    "start_time": "2023-07-29T05:41:26.248Z"
   },
   {
    "duration": 28,
    "start_time": "2023-07-29T05:41:38.560Z"
   },
   {
    "duration": 4,
    "start_time": "2023-07-29T05:45:24.976Z"
   },
   {
    "duration": 7,
    "start_time": "2023-07-29T05:45:27.936Z"
   },
   {
    "duration": 11,
    "start_time": "2023-07-29T05:45:32.979Z"
   },
   {
    "duration": 4,
    "start_time": "2023-07-29T05:45:34.790Z"
   },
   {
    "duration": 5,
    "start_time": "2023-07-29T05:45:39.149Z"
   },
   {
    "duration": 29,
    "start_time": "2023-07-29T05:45:40.134Z"
   },
   {
    "duration": 12,
    "start_time": "2023-07-29T05:48:33.485Z"
   },
   {
    "duration": 12,
    "start_time": "2023-07-29T05:49:05.493Z"
   },
   {
    "duration": 3,
    "start_time": "2023-07-29T05:49:11.601Z"
   },
   {
    "duration": 12,
    "start_time": "2023-07-29T05:49:17.932Z"
   },
   {
    "duration": 16,
    "start_time": "2023-07-29T05:49:42.075Z"
   },
   {
    "duration": 15,
    "start_time": "2023-07-29T05:51:59.409Z"
   },
   {
    "duration": 11,
    "start_time": "2023-07-29T05:54:29.361Z"
   },
   {
    "duration": 6,
    "start_time": "2023-07-29T05:54:42.742Z"
   },
   {
    "duration": 816,
    "start_time": "2023-07-29T05:55:44.992Z"
   },
   {
    "duration": 779,
    "start_time": "2023-07-29T05:56:04.191Z"
   },
   {
    "duration": 792,
    "start_time": "2023-07-29T05:56:08.141Z"
   },
   {
    "duration": 16,
    "start_time": "2023-07-29T05:56:53.625Z"
   },
   {
    "duration": 10,
    "start_time": "2023-07-29T05:57:09.042Z"
   },
   {
    "duration": 3,
    "start_time": "2023-07-29T05:57:27.874Z"
   },
   {
    "duration": 16,
    "start_time": "2023-07-29T05:58:52.525Z"
   },
   {
    "duration": 11,
    "start_time": "2023-07-29T05:59:01.736Z"
   },
   {
    "duration": 16,
    "start_time": "2023-07-29T06:02:11.265Z"
   },
   {
    "duration": 10,
    "start_time": "2023-07-29T06:02:14.571Z"
   },
   {
    "duration": 16,
    "start_time": "2023-07-29T06:04:17.129Z"
   },
   {
    "duration": 15,
    "start_time": "2023-07-29T06:04:44.037Z"
   },
   {
    "duration": 27,
    "start_time": "2023-07-29T06:04:48.922Z"
   },
   {
    "duration": 8,
    "start_time": "2023-07-29T06:05:13.468Z"
   },
   {
    "duration": 24,
    "start_time": "2023-07-29T06:05:17.633Z"
   },
   {
    "duration": 24,
    "start_time": "2023-07-29T06:05:31.654Z"
   },
   {
    "duration": 26,
    "start_time": "2023-07-29T06:08:33.441Z"
   },
   {
    "duration": 11,
    "start_time": "2023-07-29T06:08:45.154Z"
   },
   {
    "duration": 11,
    "start_time": "2023-07-29T06:08:54.488Z"
   },
   {
    "duration": 9,
    "start_time": "2023-07-29T06:08:59.594Z"
   },
   {
    "duration": 9,
    "start_time": "2023-07-29T06:10:30.320Z"
   },
   {
    "duration": 9,
    "start_time": "2023-07-29T06:10:35.121Z"
   },
   {
    "duration": 9,
    "start_time": "2023-07-29T06:11:05.597Z"
   },
   {
    "duration": 23,
    "start_time": "2023-07-29T06:12:30.934Z"
   },
   {
    "duration": 13,
    "start_time": "2023-07-29T06:12:54.514Z"
   },
   {
    "duration": 3,
    "start_time": "2023-07-29T06:12:56.148Z"
   },
   {
    "duration": 36,
    "start_time": "2023-07-29T06:12:57.003Z"
   },
   {
    "duration": 26,
    "start_time": "2023-07-29T06:12:59.537Z"
   },
   {
    "duration": 19,
    "start_time": "2023-07-29T06:13:06.691Z"
   },
   {
    "duration": 11,
    "start_time": "2023-07-29T06:13:26.458Z"
   },
   {
    "duration": 18,
    "start_time": "2023-07-29T06:13:28.364Z"
   },
   {
    "duration": 11,
    "start_time": "2023-07-29T06:15:13.339Z"
   },
   {
    "duration": 12,
    "start_time": "2023-07-29T06:15:17.703Z"
   },
   {
    "duration": 14,
    "start_time": "2023-07-29T06:15:44.532Z"
   },
   {
    "duration": 13,
    "start_time": "2023-07-29T06:16:28.028Z"
   },
   {
    "duration": 17,
    "start_time": "2023-07-29T06:17:17.159Z"
   },
   {
    "duration": 27,
    "start_time": "2023-07-29T06:18:04.899Z"
   },
   {
    "duration": 10,
    "start_time": "2023-07-29T06:18:40.641Z"
   },
   {
    "duration": 19,
    "start_time": "2023-07-29T06:18:42.931Z"
   },
   {
    "duration": 12,
    "start_time": "2023-07-29T06:20:27.056Z"
   },
   {
    "duration": 15,
    "start_time": "2023-07-29T06:20:29.253Z"
   },
   {
    "duration": 8,
    "start_time": "2023-07-29T06:20:46.590Z"
   },
   {
    "duration": 14,
    "start_time": "2023-07-29T06:20:50.498Z"
   },
   {
    "duration": 26,
    "start_time": "2023-07-29T06:21:17.289Z"
   },
   {
    "duration": 10,
    "start_time": "2023-07-29T06:21:26.482Z"
   },
   {
    "duration": 18,
    "start_time": "2023-07-29T06:21:28.255Z"
   },
   {
    "duration": 8,
    "start_time": "2023-07-29T06:22:49.607Z"
   },
   {
    "duration": 5,
    "start_time": "2023-07-29T06:22:58.822Z"
   },
   {
    "duration": 12,
    "start_time": "2023-07-29T06:23:37.486Z"
   },
   {
    "duration": 17,
    "start_time": "2023-07-29T06:23:54.146Z"
   },
   {
    "duration": 19,
    "start_time": "2023-07-29T06:24:15.891Z"
   },
   {
    "duration": 19,
    "start_time": "2023-07-29T06:24:19.488Z"
   },
   {
    "duration": 4,
    "start_time": "2023-07-29T06:26:46.383Z"
   },
   {
    "duration": 14,
    "start_time": "2023-07-29T06:27:23.111Z"
   },
   {
    "duration": 14,
    "start_time": "2023-07-29T06:28:03.807Z"
   },
   {
    "duration": 18,
    "start_time": "2023-07-29T06:28:06.339Z"
   },
   {
    "duration": 11,
    "start_time": "2023-07-29T06:28:26.532Z"
   },
   {
    "duration": 17,
    "start_time": "2023-07-29T06:28:28.862Z"
   },
   {
    "duration": 10,
    "start_time": "2023-07-29T06:29:46.426Z"
   },
   {
    "duration": 3,
    "start_time": "2023-07-29T06:30:34.257Z"
   },
   {
    "duration": 16,
    "start_time": "2023-07-29T06:30:43.587Z"
   },
   {
    "duration": 18,
    "start_time": "2023-07-29T06:30:53.049Z"
   },
   {
    "duration": 14,
    "start_time": "2023-07-29T06:31:22.026Z"
   },
   {
    "duration": 12,
    "start_time": "2023-07-29T06:31:32.591Z"
   },
   {
    "duration": 15,
    "start_time": "2023-07-29T06:31:38.480Z"
   },
   {
    "duration": 10,
    "start_time": "2023-07-29T06:32:06.814Z"
   },
   {
    "duration": 27,
    "start_time": "2023-07-29T06:32:12.363Z"
   },
   {
    "duration": 10,
    "start_time": "2023-07-29T06:32:21.373Z"
   },
   {
    "duration": 36,
    "start_time": "2023-07-29T06:32:24.374Z"
   },
   {
    "duration": 554,
    "start_time": "2023-07-29T06:32:30.765Z"
   },
   {
    "duration": 46561,
    "start_time": "2023-07-29T06:32:38.309Z"
   },
   {
    "duration": 5,
    "start_time": "2023-07-29T06:33:33.767Z"
   },
   {
    "duration": 105,
    "start_time": "2023-07-29T06:33:45.644Z"
   },
   {
    "duration": 4,
    "start_time": "2023-07-29T06:33:51.106Z"
   },
   {
    "duration": 16,
    "start_time": "2023-07-29T06:33:52.856Z"
   },
   {
    "duration": 13,
    "start_time": "2023-07-29T06:35:53.670Z"
   },
   {
    "duration": 6,
    "start_time": "2023-07-29T06:36:08.183Z"
   },
   {
    "duration": 17,
    "start_time": "2023-07-29T06:36:34.483Z"
   },
   {
    "duration": 126,
    "start_time": "2023-07-29T06:36:44.866Z"
   },
   {
    "duration": 8,
    "start_time": "2023-07-29T06:37:06.335Z"
   },
   {
    "duration": 16,
    "start_time": "2023-07-29T06:37:08.918Z"
   },
   {
    "duration": 2,
    "start_time": "2023-07-29T06:37:12.012Z"
   },
   {
    "duration": 22,
    "start_time": "2023-07-29T06:37:12.905Z"
   },
   {
    "duration": 4,
    "start_time": "2023-07-29T06:37:17.852Z"
   },
   {
    "duration": 25,
    "start_time": "2023-07-29T06:37:19.238Z"
   },
   {
    "duration": 9,
    "start_time": "2023-07-29T06:37:26.495Z"
   },
   {
    "duration": 28,
    "start_time": "2023-07-29T06:37:28.783Z"
   },
   {
    "duration": 551,
    "start_time": "2023-07-29T06:37:33.664Z"
   },
   {
    "duration": 48758,
    "start_time": "2023-07-29T06:37:39.032Z"
   },
   {
    "duration": 5,
    "start_time": "2023-07-29T06:38:33.481Z"
   },
   {
    "duration": 4,
    "start_time": "2023-07-29T06:38:37.882Z"
   },
   {
    "duration": 118,
    "start_time": "2023-07-29T06:38:38.962Z"
   },
   {
    "duration": 11,
    "start_time": "2023-07-29T06:39:20.021Z"
   },
   {
    "duration": 23,
    "start_time": "2023-07-29T06:40:38.301Z"
   },
   {
    "duration": 3,
    "start_time": "2023-07-29T06:40:50.068Z"
   },
   {
    "duration": 35,
    "start_time": "2023-07-29T06:41:25.391Z"
   },
   {
    "duration": 10,
    "start_time": "2023-07-29T06:41:41.126Z"
   },
   {
    "duration": 43,
    "start_time": "2023-07-29T06:41:46.168Z"
   },
   {
    "duration": 27,
    "start_time": "2023-07-29T06:42:25.958Z"
   },
   {
    "duration": 36,
    "start_time": "2023-07-29T06:42:43.259Z"
   },
   {
    "duration": 6,
    "start_time": "2023-07-29T06:43:14.739Z"
   },
   {
    "duration": 5,
    "start_time": "2023-07-29T06:43:28.574Z"
   },
   {
    "duration": 5,
    "start_time": "2023-07-29T06:43:57.358Z"
   },
   {
    "duration": 41,
    "start_time": "2023-07-29T06:44:07.118Z"
   },
   {
    "duration": 679,
    "start_time": "2023-07-29T06:45:32.498Z"
   },
   {
    "duration": 30,
    "start_time": "2023-07-29T06:46:33.642Z"
   },
   {
    "duration": 30,
    "start_time": "2023-07-29T06:47:25.948Z"
   },
   {
    "duration": 13,
    "start_time": "2023-07-29T06:47:30.883Z"
   },
   {
    "duration": 35,
    "start_time": "2023-07-29T06:47:32.961Z"
   },
   {
    "duration": 3,
    "start_time": "2023-07-29T06:49:20.421Z"
   },
   {
    "duration": 9,
    "start_time": "2023-07-29T06:49:27.921Z"
   },
   {
    "duration": 56,
    "start_time": "2023-07-29T06:49:31.457Z"
   },
   {
    "duration": 664,
    "start_time": "2023-07-29T06:49:40.962Z"
   },
   {
    "duration": 20,
    "start_time": "2023-07-29T06:49:47.624Z"
   },
   {
    "duration": 52708,
    "start_time": "2023-07-29T06:50:04.908Z"
   },
   {
    "duration": 123,
    "start_time": "2023-07-29T06:52:44.700Z"
   },
   {
    "duration": 3,
    "start_time": "2023-07-29T06:54:32.046Z"
   },
   {
    "duration": 79,
    "start_time": "2023-07-29T06:54:34.502Z"
   },
   {
    "duration": 106,
    "start_time": "2023-07-29T06:55:00.241Z"
   },
   {
    "duration": 4,
    "start_time": "2023-07-29T06:55:25.830Z"
   },
   {
    "duration": 17,
    "start_time": "2023-07-29T06:55:28.801Z"
   },
   {
    "duration": 3,
    "start_time": "2023-07-29T06:55:30.920Z"
   },
   {
    "duration": 24,
    "start_time": "2023-07-29T06:55:31.772Z"
   },
   {
    "duration": 4,
    "start_time": "2023-07-29T06:55:34.895Z"
   },
   {
    "duration": 20,
    "start_time": "2023-07-29T06:55:36.329Z"
   },
   {
    "duration": 3,
    "start_time": "2023-07-29T06:55:43.944Z"
   },
   {
    "duration": 17,
    "start_time": "2023-07-29T06:55:49.109Z"
   },
   {
    "duration": 14,
    "start_time": "2023-07-29T06:56:57.571Z"
   },
   {
    "duration": 18,
    "start_time": "2023-07-29T06:59:24.400Z"
   },
   {
    "duration": 14,
    "start_time": "2023-07-29T06:59:56.496Z"
   },
   {
    "duration": 29,
    "start_time": "2023-07-29T07:00:31.904Z"
   },
   {
    "duration": 23,
    "start_time": "2023-07-29T07:00:48.175Z"
   },
   {
    "duration": 20,
    "start_time": "2023-07-29T07:01:03.764Z"
   },
   {
    "duration": 106,
    "start_time": "2023-07-29T07:01:26.505Z"
   },
   {
    "duration": 100,
    "start_time": "2023-07-29T07:02:11.146Z"
   },
   {
    "duration": 4,
    "start_time": "2023-07-29T07:02:21.648Z"
   },
   {
    "duration": 16,
    "start_time": "2023-07-29T07:02:22.719Z"
   },
   {
    "duration": 132,
    "start_time": "2023-07-29T07:03:11.419Z"
   },
   {
    "duration": 3,
    "start_time": "2023-07-29T07:04:39.550Z"
   },
   {
    "duration": 35,
    "start_time": "2023-07-29T07:04:41.186Z"
   },
   {
    "duration": 3,
    "start_time": "2023-07-29T07:05:33.760Z"
   },
   {
    "duration": 22,
    "start_time": "2023-07-29T07:05:34.894Z"
   },
   {
    "duration": 4,
    "start_time": "2023-07-29T07:05:56.694Z"
   },
   {
    "duration": 21,
    "start_time": "2023-07-29T07:05:57.573Z"
   },
   {
    "duration": 4,
    "start_time": "2023-07-29T07:06:02.252Z"
   },
   {
    "duration": 19,
    "start_time": "2023-07-29T07:06:05.741Z"
   },
   {
    "duration": 10,
    "start_time": "2023-07-29T07:14:28.166Z"
   },
   {
    "duration": 4,
    "start_time": "2023-07-29T07:14:32.777Z"
   },
   {
    "duration": 11,
    "start_time": "2023-07-29T07:14:33.857Z"
   },
   {
    "duration": 31,
    "start_time": "2023-07-29T07:14:40.115Z"
   },
   {
    "duration": 5,
    "start_time": "2023-07-29T07:15:07.564Z"
   },
   {
    "duration": 22,
    "start_time": "2023-07-29T07:15:08.844Z"
   },
   {
    "duration": 32,
    "start_time": "2023-07-29T07:15:44.553Z"
   },
   {
    "duration": 9,
    "start_time": "2023-07-29T07:15:47.938Z"
   },
   {
    "duration": 35,
    "start_time": "2023-07-29T07:15:49.579Z"
   },
   {
    "duration": 485,
    "start_time": "2023-07-29T07:15:52.636Z"
   },
   {
    "duration": 44982,
    "start_time": "2023-07-29T07:15:58.622Z"
   },
   {
    "duration": 5,
    "start_time": "2023-07-29T07:16:56.186Z"
   },
   {
    "duration": 6,
    "start_time": "2023-07-29T07:16:59.304Z"
   },
   {
    "duration": 101,
    "start_time": "2023-07-29T07:17:11.340Z"
   },
   {
    "duration": 5,
    "start_time": "2023-07-29T07:17:35.321Z"
   },
   {
    "duration": 23,
    "start_time": "2023-07-29T07:17:38.092Z"
   },
   {
    "duration": 12,
    "start_time": "2023-07-29T07:21:12.202Z"
   },
   {
    "duration": 3,
    "start_time": "2023-07-29T07:21:19.883Z"
   },
   {
    "duration": 4,
    "start_time": "2023-07-29T07:21:26.259Z"
   },
   {
    "duration": 5,
    "start_time": "2023-07-29T07:21:31.932Z"
   },
   {
    "duration": 52,
    "start_time": "2023-07-29T07:22:41.240Z"
   },
   {
    "duration": 61,
    "start_time": "2023-07-29T07:23:08.901Z"
   },
   {
    "duration": 9,
    "start_time": "2023-07-29T07:23:38.034Z"
   },
   {
    "duration": 22,
    "start_time": "2023-07-29T07:23:51.947Z"
   },
   {
    "duration": 473,
    "start_time": "2023-07-29T07:24:18.374Z"
   },
   {
    "duration": 43029,
    "start_time": "2023-07-29T07:24:41.651Z"
   },
   {
    "duration": 7,
    "start_time": "2023-07-29T07:25:32.210Z"
   },
   {
    "duration": 10,
    "start_time": "2023-07-29T07:25:36.174Z"
   },
   {
    "duration": 5,
    "start_time": "2023-07-29T07:25:37.608Z"
   },
   {
    "duration": 105,
    "start_time": "2023-07-29T07:26:44.072Z"
   },
   {
    "duration": 147,
    "start_time": "2023-07-29T07:27:26.017Z"
   },
   {
    "duration": 13,
    "start_time": "2023-07-29T07:28:21.102Z"
   },
   {
    "duration": 110,
    "start_time": "2023-07-29T07:28:53.770Z"
   },
   {
    "duration": 145,
    "start_time": "2023-07-29T07:29:00.496Z"
   },
   {
    "duration": 33,
    "start_time": "2023-07-29T07:30:38.872Z"
   },
   {
    "duration": 30,
    "start_time": "2023-07-29T07:31:12.566Z"
   },
   {
    "duration": 139,
    "start_time": "2023-07-29T07:31:37.703Z"
   },
   {
    "duration": 146,
    "start_time": "2023-07-29T07:31:59.677Z"
   },
   {
    "duration": 129,
    "start_time": "2023-07-29T07:32:27.046Z"
   },
   {
    "duration": 44551,
    "start_time": "2023-07-29T07:32:59.254Z"
   },
   {
    "duration": 231,
    "start_time": "2023-07-29T07:35:03.704Z"
   },
   {
    "duration": 321,
    "start_time": "2023-07-29T07:35:13.478Z"
   },
   {
    "duration": 250,
    "start_time": "2023-07-29T07:35:20.115Z"
   },
   {
    "duration": 11278,
    "start_time": "2023-07-29T07:35:35.274Z"
   },
   {
    "duration": 23265,
    "start_time": "2023-07-29T07:36:06.907Z"
   },
   {
    "duration": 239,
    "start_time": "2023-07-29T07:36:34.540Z"
   },
   {
    "duration": 317,
    "start_time": "2023-07-29T07:36:40.779Z"
   },
   {
    "duration": 278,
    "start_time": "2023-07-29T07:36:45.179Z"
   },
   {
    "duration": 27997,
    "start_time": "2023-07-29T07:37:44.625Z"
   },
   {
    "duration": 39963,
    "start_time": "2023-07-29T07:39:44.550Z"
   },
   {
    "duration": 15,
    "start_time": "2023-07-29T07:41:02.174Z"
   },
   {
    "duration": 119,
    "start_time": "2023-07-29T07:41:20.434Z"
   },
   {
    "duration": 2213,
    "start_time": "2023-07-29T07:41:45.409Z"
   },
   {
    "duration": 1355,
    "start_time": "2023-07-29T07:41:47.625Z"
   },
   {
    "duration": 2,
    "start_time": "2023-07-29T07:41:48.981Z"
   },
   {
    "duration": 45,
    "start_time": "2023-07-29T07:41:48.986Z"
   },
   {
    "duration": 11,
    "start_time": "2023-07-29T07:41:49.033Z"
   },
   {
    "duration": 11,
    "start_time": "2023-07-29T07:41:49.046Z"
   },
   {
    "duration": 4,
    "start_time": "2023-07-29T07:41:49.059Z"
   },
   {
    "duration": 6,
    "start_time": "2023-07-29T07:41:49.064Z"
   },
   {
    "duration": 10,
    "start_time": "2023-07-29T07:41:49.072Z"
   },
   {
    "duration": 3,
    "start_time": "2023-07-29T07:41:49.084Z"
   },
   {
    "duration": 19,
    "start_time": "2023-07-29T07:41:49.088Z"
   },
   {
    "duration": 13,
    "start_time": "2023-07-29T07:41:49.108Z"
   },
   {
    "duration": 14,
    "start_time": "2023-07-29T07:41:49.123Z"
   },
   {
    "duration": 12,
    "start_time": "2023-07-29T07:41:49.138Z"
   },
   {
    "duration": 3,
    "start_time": "2023-07-29T07:41:49.152Z"
   },
   {
    "duration": 7,
    "start_time": "2023-07-29T07:41:49.156Z"
   },
   {
    "duration": 14,
    "start_time": "2023-07-29T07:41:49.164Z"
   },
   {
    "duration": 3,
    "start_time": "2023-07-29T07:41:49.180Z"
   },
   {
    "duration": 26,
    "start_time": "2023-07-29T07:41:49.184Z"
   },
   {
    "duration": 34,
    "start_time": "2023-07-29T07:41:49.211Z"
   },
   {
    "duration": 4,
    "start_time": "2023-07-29T07:41:49.247Z"
   },
   {
    "duration": 37,
    "start_time": "2023-07-29T07:41:49.252Z"
   },
   {
    "duration": 9,
    "start_time": "2023-07-29T07:41:49.291Z"
   },
   {
    "duration": 111,
    "start_time": "2023-07-29T07:41:49.302Z"
   },
   {
    "duration": 564,
    "start_time": "2023-07-29T07:41:49.414Z"
   },
   {
    "duration": 28423,
    "start_time": "2023-07-29T07:41:49.980Z"
   },
   {
    "duration": 4,
    "start_time": "2023-07-29T07:42:18.404Z"
   },
   {
    "duration": 245,
    "start_time": "2023-07-29T07:42:18.411Z"
   },
   {
    "duration": 13,
    "start_time": "2023-07-29T07:42:18.658Z"
   },
   {
    "duration": 5,
    "start_time": "2023-07-29T07:42:18.673Z"
   },
   {
    "duration": 40448,
    "start_time": "2023-07-29T07:42:18.680Z"
   },
   {
    "duration": 14,
    "start_time": "2023-07-29T07:42:59.130Z"
   },
   {
    "duration": 3,
    "start_time": "2023-07-29T07:42:59.146Z"
   },
   {
    "duration": 201,
    "start_time": "2023-07-29T07:42:59.150Z"
   },
   {
    "duration": 1384,
    "start_time": "2023-07-29T09:12:28.987Z"
   },
   {
    "duration": 3,
    "start_time": "2023-07-29T09:12:32.981Z"
   },
   {
    "duration": 51,
    "start_time": "2023-07-29T09:12:38.272Z"
   },
   {
    "duration": 13,
    "start_time": "2023-07-29T09:12:40.777Z"
   },
   {
    "duration": 9,
    "start_time": "2023-07-29T09:12:43.026Z"
   },
   {
    "duration": 3,
    "start_time": "2023-07-29T09:12:48.345Z"
   },
   {
    "duration": 6,
    "start_time": "2023-07-29T09:12:50.768Z"
   },
   {
    "duration": 11,
    "start_time": "2023-07-29T09:12:54.111Z"
   },
   {
    "duration": 5,
    "start_time": "2023-07-29T09:12:58.129Z"
   },
   {
    "duration": 9,
    "start_time": "2023-07-29T09:13:04.105Z"
   },
   {
    "duration": 6,
    "start_time": "2023-07-29T09:13:10.215Z"
   },
   {
    "duration": 4,
    "start_time": "2023-07-29T09:13:12.098Z"
   },
   {
    "duration": 8,
    "start_time": "2023-07-29T09:13:13.909Z"
   },
   {
    "duration": 9,
    "start_time": "2023-07-29T09:13:16.077Z"
   },
   {
    "duration": 4,
    "start_time": "2023-07-29T09:13:18.289Z"
   },
   {
    "duration": 5,
    "start_time": "2023-07-29T09:13:52.339Z"
   },
   {
    "duration": 12,
    "start_time": "2023-07-29T09:13:55.687Z"
   },
   {
    "duration": 5,
    "start_time": "2023-07-29T09:13:58.796Z"
   },
   {
    "duration": 3,
    "start_time": "2023-07-29T09:14:03.429Z"
   },
   {
    "duration": 31,
    "start_time": "2023-07-29T09:14:06.105Z"
   },
   {
    "duration": 3,
    "start_time": "2023-07-29T09:16:39.052Z"
   },
   {
    "duration": 61,
    "start_time": "2023-07-29T09:18:00.767Z"
   },
   {
    "duration": 3,
    "start_time": "2023-07-29T09:18:11.381Z"
   },
   {
    "duration": 34,
    "start_time": "2023-07-29T09:18:16.604Z"
   },
   {
    "duration": 3,
    "start_time": "2023-07-29T09:19:20.038Z"
   },
   {
    "duration": 14,
    "start_time": "2023-07-29T09:20:06.959Z"
   },
   {
    "duration": 12,
    "start_time": "2023-07-29T09:20:11.837Z"
   },
   {
    "duration": 295,
    "start_time": "2023-07-29T09:20:26.805Z"
   },
   {
    "duration": 24,
    "start_time": "2023-07-29T09:20:31.302Z"
   },
   {
    "duration": 4,
    "start_time": "2023-07-29T09:20:52.342Z"
   },
   {
    "duration": 10,
    "start_time": "2023-07-29T09:20:54.209Z"
   },
   {
    "duration": 324,
    "start_time": "2023-07-29T09:20:55.702Z"
   },
   {
    "duration": 10,
    "start_time": "2023-07-29T09:21:12.348Z"
   },
   {
    "duration": 185,
    "start_time": "2023-07-29T09:21:13.819Z"
   },
   {
    "duration": 465,
    "start_time": "2023-07-29T09:22:08.326Z"
   },
   {
    "duration": 29130,
    "start_time": "2023-07-29T09:22:38.753Z"
   },
   {
    "duration": 28972,
    "start_time": "2023-07-29T09:23:49.078Z"
   },
   {
    "duration": 5,
    "start_time": "2023-07-29T09:25:08.828Z"
   },
   {
    "duration": 223,
    "start_time": "2023-07-29T09:25:33.456Z"
   },
   {
    "duration": 18,
    "start_time": "2023-07-29T09:26:25.931Z"
   },
   {
    "duration": 5,
    "start_time": "2023-07-29T09:26:27.685Z"
   },
   {
    "duration": 37903,
    "start_time": "2023-07-29T09:27:17.679Z"
   },
   {
    "duration": 39524,
    "start_time": "2023-07-29T09:28:45.538Z"
   },
   {
    "duration": 17,
    "start_time": "2023-07-29T09:32:57.403Z"
   },
   {
    "duration": 4,
    "start_time": "2023-07-29T09:33:40.749Z"
   },
   {
    "duration": 204,
    "start_time": "2023-07-29T09:33:42.651Z"
   },
   {
    "duration": 1278,
    "start_time": "2023-07-29T09:34:30.959Z"
   },
   {
    "duration": 3,
    "start_time": "2023-07-29T09:34:32.239Z"
   },
   {
    "duration": 71,
    "start_time": "2023-07-29T09:34:32.243Z"
   },
   {
    "duration": 14,
    "start_time": "2023-07-29T09:34:32.316Z"
   },
   {
    "duration": 43,
    "start_time": "2023-07-29T09:34:32.332Z"
   },
   {
    "duration": 26,
    "start_time": "2023-07-29T09:34:32.377Z"
   },
   {
    "duration": 30,
    "start_time": "2023-07-29T09:34:32.404Z"
   },
   {
    "duration": 30,
    "start_time": "2023-07-29T09:34:32.436Z"
   },
   {
    "duration": 4,
    "start_time": "2023-07-29T09:34:32.468Z"
   },
   {
    "duration": 12,
    "start_time": "2023-07-29T09:34:32.475Z"
   },
   {
    "duration": 24,
    "start_time": "2023-07-29T09:34:32.489Z"
   },
   {
    "duration": 21,
    "start_time": "2023-07-29T09:34:32.515Z"
   },
   {
    "duration": 26,
    "start_time": "2023-07-29T09:34:32.538Z"
   },
   {
    "duration": 25,
    "start_time": "2023-07-29T09:34:32.566Z"
   },
   {
    "duration": 23,
    "start_time": "2023-07-29T09:34:32.592Z"
   },
   {
    "duration": 30,
    "start_time": "2023-07-29T09:34:32.618Z"
   },
   {
    "duration": 4,
    "start_time": "2023-07-29T09:34:32.650Z"
   },
   {
    "duration": 3,
    "start_time": "2023-07-29T09:34:32.656Z"
   },
   {
    "duration": 28,
    "start_time": "2023-07-29T09:34:32.661Z"
   },
   {
    "duration": 4,
    "start_time": "2023-07-29T09:34:32.690Z"
   },
   {
    "duration": 59,
    "start_time": "2023-07-29T09:34:32.695Z"
   },
   {
    "duration": 3,
    "start_time": "2023-07-29T09:34:32.756Z"
   },
   {
    "duration": 19,
    "start_time": "2023-07-29T09:34:32.761Z"
   },
   {
    "duration": 123,
    "start_time": "2023-07-29T09:34:32.782Z"
   },
   {
    "duration": 640,
    "start_time": "2023-07-29T09:34:32.908Z"
   },
   {
    "duration": 27707,
    "start_time": "2023-07-29T09:34:33.550Z"
   },
   {
    "duration": 4,
    "start_time": "2023-07-29T09:35:01.258Z"
   },
   {
    "duration": 233,
    "start_time": "2023-07-29T09:35:01.265Z"
   },
   {
    "duration": 15,
    "start_time": "2023-07-29T09:35:01.500Z"
   },
   {
    "duration": 60,
    "start_time": "2023-07-29T09:35:01.517Z"
   },
   {
    "duration": 37547,
    "start_time": "2023-07-29T09:35:01.579Z"
   },
   {
    "duration": 14,
    "start_time": "2023-07-29T09:35:39.127Z"
   },
   {
    "duration": 22,
    "start_time": "2023-07-29T09:35:39.143Z"
   },
   {
    "duration": 126,
    "start_time": "2023-07-29T09:35:39.166Z"
   },
   {
    "duration": 1423,
    "start_time": "2023-07-29T09:36:29.595Z"
   },
   {
    "duration": 3,
    "start_time": "2023-07-29T09:36:31.021Z"
   },
   {
    "duration": 78,
    "start_time": "2023-07-29T09:36:31.026Z"
   },
   {
    "duration": 29,
    "start_time": "2023-07-29T09:36:31.106Z"
   },
   {
    "duration": 42,
    "start_time": "2023-07-29T09:36:31.137Z"
   },
   {
    "duration": 27,
    "start_time": "2023-07-29T09:36:31.180Z"
   },
   {
    "duration": 27,
    "start_time": "2023-07-29T09:36:31.209Z"
   },
   {
    "duration": 34,
    "start_time": "2023-07-29T09:36:31.238Z"
   },
   {
    "duration": 15,
    "start_time": "2023-07-29T09:36:31.273Z"
   },
   {
    "duration": 47,
    "start_time": "2023-07-29T09:36:31.289Z"
   },
   {
    "duration": 32,
    "start_time": "2023-07-29T09:36:31.338Z"
   },
   {
    "duration": 45,
    "start_time": "2023-07-29T09:36:31.372Z"
   },
   {
    "duration": 46,
    "start_time": "2023-07-29T09:36:31.419Z"
   },
   {
    "duration": 48,
    "start_time": "2023-07-29T09:36:31.467Z"
   },
   {
    "duration": 104,
    "start_time": "2023-07-29T09:36:31.516Z"
   },
   {
    "duration": 83,
    "start_time": "2023-07-29T09:36:31.622Z"
   },
   {
    "duration": 39,
    "start_time": "2023-07-29T09:36:31.707Z"
   },
   {
    "duration": 26,
    "start_time": "2023-07-29T09:36:31.748Z"
   },
   {
    "duration": 73,
    "start_time": "2023-07-29T09:36:31.775Z"
   },
   {
    "duration": 29,
    "start_time": "2023-07-29T09:36:31.849Z"
   },
   {
    "duration": 73,
    "start_time": "2023-07-29T09:36:31.880Z"
   },
   {
    "duration": 4,
    "start_time": "2023-07-29T09:36:31.955Z"
   },
   {
    "duration": 36,
    "start_time": "2023-07-29T09:36:31.960Z"
   },
   {
    "duration": 114,
    "start_time": "2023-07-29T09:36:31.997Z"
   },
   {
    "duration": 592,
    "start_time": "2023-07-29T09:36:32.113Z"
   },
   {
    "duration": 27508,
    "start_time": "2023-07-29T09:36:32.707Z"
   },
   {
    "duration": 6,
    "start_time": "2023-07-29T09:37:00.216Z"
   },
   {
    "duration": 253,
    "start_time": "2023-07-29T09:37:00.224Z"
   },
   {
    "duration": 13,
    "start_time": "2023-07-29T09:37:00.478Z"
   },
   {
    "duration": 42,
    "start_time": "2023-07-29T09:37:00.492Z"
   },
   {
    "duration": 37732,
    "start_time": "2023-07-29T09:37:00.535Z"
   },
   {
    "duration": 14,
    "start_time": "2023-07-29T09:37:38.268Z"
   },
   {
    "duration": 5,
    "start_time": "2023-07-29T09:37:38.284Z"
   },
   {
    "duration": 159,
    "start_time": "2023-07-29T09:37:38.300Z"
   },
   {
    "duration": 1665,
    "start_time": "2023-07-30T07:12:06.107Z"
   },
   {
    "duration": 3,
    "start_time": "2023-07-30T07:12:07.774Z"
   },
   {
    "duration": 167,
    "start_time": "2023-07-30T07:12:07.779Z"
   },
   {
    "duration": 13,
    "start_time": "2023-07-30T07:12:07.948Z"
   },
   {
    "duration": 8,
    "start_time": "2023-07-30T07:12:07.963Z"
   },
   {
    "duration": 5,
    "start_time": "2023-07-30T07:12:07.972Z"
   },
   {
    "duration": 9,
    "start_time": "2023-07-30T07:12:07.979Z"
   },
   {
    "duration": 13,
    "start_time": "2023-07-30T07:12:07.989Z"
   },
   {
    "duration": 5,
    "start_time": "2023-07-30T07:12:08.003Z"
   },
   {
    "duration": 9,
    "start_time": "2023-07-30T07:12:08.010Z"
   },
   {
    "duration": 39,
    "start_time": "2023-07-30T07:12:08.021Z"
   },
   {
    "duration": 6,
    "start_time": "2023-07-30T07:12:08.062Z"
   },
   {
    "duration": 17,
    "start_time": "2023-07-30T07:12:08.069Z"
   },
   {
    "duration": 15,
    "start_time": "2023-07-30T07:12:08.087Z"
   },
   {
    "duration": 10,
    "start_time": "2023-07-30T07:12:08.104Z"
   },
   {
    "duration": 18,
    "start_time": "2023-07-30T07:12:08.116Z"
   },
   {
    "duration": 4,
    "start_time": "2023-07-30T07:12:08.136Z"
   },
   {
    "duration": 18,
    "start_time": "2023-07-30T07:12:08.142Z"
   },
   {
    "duration": 38,
    "start_time": "2023-07-30T07:12:08.162Z"
   },
   {
    "duration": 5,
    "start_time": "2023-07-30T07:12:08.202Z"
   },
   {
    "duration": 51,
    "start_time": "2023-07-30T07:12:08.209Z"
   },
   {
    "duration": 3,
    "start_time": "2023-07-30T07:12:08.262Z"
   },
   {
    "duration": 11,
    "start_time": "2023-07-30T07:12:08.267Z"
   },
   {
    "duration": 91,
    "start_time": "2023-07-30T07:12:08.280Z"
   },
   {
    "duration": 546,
    "start_time": "2023-07-30T07:12:08.459Z"
   },
   {
    "duration": 28310,
    "start_time": "2023-07-30T07:12:09.007Z"
   },
   {
    "duration": 5,
    "start_time": "2023-07-30T07:12:37.319Z"
   },
   {
    "duration": 255,
    "start_time": "2023-07-30T07:12:37.328Z"
   },
   {
    "duration": 18,
    "start_time": "2023-07-30T07:12:37.585Z"
   },
   {
    "duration": 6,
    "start_time": "2023-07-30T07:12:37.605Z"
   },
   {
    "duration": 37629,
    "start_time": "2023-07-30T07:12:37.612Z"
   },
   {
    "duration": 25,
    "start_time": "2023-07-30T07:13:15.243Z"
   },
   {
    "duration": 4,
    "start_time": "2023-07-30T07:13:15.270Z"
   },
   {
    "duration": 182,
    "start_time": "2023-07-30T07:13:15.277Z"
   },
   {
    "duration": 1515,
    "start_time": "2023-07-30T12:10:05.803Z"
   },
   {
    "duration": 3,
    "start_time": "2023-07-30T12:10:12.113Z"
   },
   {
    "duration": 79,
    "start_time": "2023-07-30T12:10:14.269Z"
   },
   {
    "duration": 11,
    "start_time": "2023-07-30T12:10:19.261Z"
   },
   {
    "duration": 8,
    "start_time": "2023-07-30T12:10:21.241Z"
   },
   {
    "duration": 111,
    "start_time": "2023-07-30T12:10:24.093Z"
   },
   {
    "duration": 7,
    "start_time": "2023-07-30T12:10:27.353Z"
   },
   {
    "duration": 6,
    "start_time": "2023-07-30T12:10:29.181Z"
   },
   {
    "duration": 9,
    "start_time": "2023-07-30T12:10:32.903Z"
   },
   {
    "duration": 4,
    "start_time": "2023-07-30T12:11:09.735Z"
   },
   {
    "duration": 8,
    "start_time": "2023-07-30T12:11:11.072Z"
   },
   {
    "duration": 5,
    "start_time": "2023-07-30T12:13:01.748Z"
   },
   {
    "duration": 4,
    "start_time": "2023-07-30T12:13:03.352Z"
   },
   {
    "duration": 7,
    "start_time": "2023-07-30T12:13:04.907Z"
   },
   {
    "duration": 4,
    "start_time": "2023-07-30T12:13:06.272Z"
   },
   {
    "duration": 4,
    "start_time": "2023-07-30T12:13:08.264Z"
   },
   {
    "duration": 11,
    "start_time": "2023-07-30T12:13:10.814Z"
   },
   {
    "duration": 4,
    "start_time": "2023-07-30T12:13:12.384Z"
   },
   {
    "duration": 3,
    "start_time": "2023-07-30T12:13:18.505Z"
   },
   {
    "duration": 22,
    "start_time": "2023-07-30T12:13:19.439Z"
   },
   {
    "duration": 4,
    "start_time": "2023-07-30T12:13:49.555Z"
   },
   {
    "duration": 23,
    "start_time": "2023-07-30T12:13:52.568Z"
   },
   {
    "duration": 4,
    "start_time": "2023-07-30T12:14:56.468Z"
   },
   {
    "duration": 30,
    "start_time": "2023-07-30T12:14:58.111Z"
   },
   {
    "duration": 22,
    "start_time": "2023-07-30T12:15:09.151Z"
   },
   {
    "duration": 6,
    "start_time": "2023-07-30T12:15:10.172Z"
   },
   {
    "duration": 22,
    "start_time": "2023-07-30T12:15:12.508Z"
   },
   {
    "duration": 5,
    "start_time": "2023-07-30T12:18:11.706Z"
   },
   {
    "duration": 37,
    "start_time": "2023-07-30T12:18:12.955Z"
   },
   {
    "duration": 9,
    "start_time": "2023-07-30T12:18:39.539Z"
   },
   {
    "duration": 12,
    "start_time": "2023-07-30T12:18:47.404Z"
   },
   {
    "duration": 29,
    "start_time": "2023-07-30T12:18:53.308Z"
   },
   {
    "duration": 30,
    "start_time": "2023-07-30T12:20:07.075Z"
   },
   {
    "duration": 3,
    "start_time": "2023-07-30T12:20:53.846Z"
   },
   {
    "duration": 10,
    "start_time": "2023-07-30T12:21:00.675Z"
   },
   {
    "duration": 6,
    "start_time": "2023-07-30T12:21:03.062Z"
   },
   {
    "duration": 106,
    "start_time": "2023-07-30T12:21:07.494Z"
   },
   {
    "duration": 4,
    "start_time": "2023-07-30T12:23:09.667Z"
   },
   {
    "duration": 3,
    "start_time": "2023-07-30T12:23:29.137Z"
   },
   {
    "duration": 7,
    "start_time": "2023-07-30T12:23:36.649Z"
   },
   {
    "duration": 21,
    "start_time": "2023-07-30T12:23:48.370Z"
   },
   {
    "duration": 407,
    "start_time": "2023-07-30T12:24:00.368Z"
   },
   {
    "duration": 27023,
    "start_time": "2023-07-30T12:24:15.208Z"
   },
   {
    "duration": 6,
    "start_time": "2023-07-30T12:25:30.837Z"
   },
   {
    "duration": 28254,
    "start_time": "2023-07-30T12:26:34.307Z"
   },
   {
    "duration": 16,
    "start_time": "2023-07-30T12:28:24.661Z"
   },
   {
    "duration": 6,
    "start_time": "2023-07-30T12:28:26.089Z"
   },
   {
    "duration": 37779,
    "start_time": "2023-07-30T12:28:40.603Z"
   },
   {
    "duration": 22,
    "start_time": "2023-07-30T12:30:40.894Z"
   },
   {
    "duration": 4,
    "start_time": "2023-07-30T12:30:47.964Z"
   },
   {
    "duration": 131,
    "start_time": "2023-07-30T12:30:49.240Z"
   },
   {
    "duration": 1314,
    "start_time": "2023-07-30T12:35:20.711Z"
   },
   {
    "duration": 3,
    "start_time": "2023-07-30T12:35:22.027Z"
   },
   {
    "duration": 44,
    "start_time": "2023-07-30T12:35:22.031Z"
   },
   {
    "duration": 11,
    "start_time": "2023-07-30T12:35:22.077Z"
   },
   {
    "duration": 7,
    "start_time": "2023-07-30T12:35:22.089Z"
   },
   {
    "duration": 7,
    "start_time": "2023-07-30T12:35:22.097Z"
   },
   {
    "duration": 5,
    "start_time": "2023-07-30T12:35:22.106Z"
   },
   {
    "duration": 12,
    "start_time": "2023-07-30T12:35:22.112Z"
   },
   {
    "duration": 3,
    "start_time": "2023-07-30T12:35:22.125Z"
   },
   {
    "duration": 9,
    "start_time": "2023-07-30T12:35:22.130Z"
   },
   {
    "duration": 15,
    "start_time": "2023-07-30T12:35:22.140Z"
   },
   {
    "duration": 7,
    "start_time": "2023-07-30T12:35:22.156Z"
   },
   {
    "duration": 7,
    "start_time": "2023-07-30T12:35:22.164Z"
   },
   {
    "duration": 3,
    "start_time": "2023-07-30T12:35:22.199Z"
   },
   {
    "duration": 6,
    "start_time": "2023-07-30T12:35:22.203Z"
   },
   {
    "duration": 13,
    "start_time": "2023-07-30T12:35:22.210Z"
   },
   {
    "duration": 3,
    "start_time": "2023-07-30T12:35:22.224Z"
   },
   {
    "duration": 4,
    "start_time": "2023-07-30T12:35:22.229Z"
   },
   {
    "duration": 25,
    "start_time": "2023-07-30T12:35:22.234Z"
   },
   {
    "duration": 3,
    "start_time": "2023-07-30T12:35:22.261Z"
   },
   {
    "duration": 31,
    "start_time": "2023-07-30T12:35:22.299Z"
   },
   {
    "duration": 3,
    "start_time": "2023-07-30T12:35:22.332Z"
   },
   {
    "duration": 11,
    "start_time": "2023-07-30T12:35:22.336Z"
   },
   {
    "duration": 54,
    "start_time": "2023-07-30T12:35:22.349Z"
   },
   {
    "duration": 579,
    "start_time": "2023-07-30T12:35:22.404Z"
   },
   {
    "duration": 27160,
    "start_time": "2023-07-30T12:35:22.984Z"
   },
   {
    "duration": 7,
    "start_time": "2023-07-30T12:35:50.146Z"
   },
   {
    "duration": 28703,
    "start_time": "2023-07-30T12:35:50.156Z"
   },
   {
    "duration": 13,
    "start_time": "2023-07-30T12:36:18.861Z"
   },
   {
    "duration": 5,
    "start_time": "2023-07-30T12:36:18.875Z"
   },
   {
    "duration": 38135,
    "start_time": "2023-07-30T12:36:18.899Z"
   },
   {
    "duration": 21,
    "start_time": "2023-07-30T12:36:57.036Z"
   },
   {
    "duration": 5,
    "start_time": "2023-07-30T12:36:57.058Z"
   },
   {
    "duration": 204,
    "start_time": "2023-07-30T12:36:57.064Z"
   },
   {
    "duration": 1792,
    "start_time": "2023-07-31T05:18:11.345Z"
   },
   {
    "duration": 3,
    "start_time": "2023-07-31T05:18:13.140Z"
   },
   {
    "duration": 142,
    "start_time": "2023-07-31T05:18:13.145Z"
   },
   {
    "duration": 18,
    "start_time": "2023-07-31T05:18:13.289Z"
   },
   {
    "duration": 23,
    "start_time": "2023-07-31T05:18:13.310Z"
   },
   {
    "duration": 31,
    "start_time": "2023-07-31T05:18:13.335Z"
   },
   {
    "duration": 10,
    "start_time": "2023-07-31T05:18:13.367Z"
   },
   {
    "duration": 18,
    "start_time": "2023-07-31T05:18:13.379Z"
   },
   {
    "duration": 6,
    "start_time": "2023-07-31T05:18:13.399Z"
   },
   {
    "duration": 38,
    "start_time": "2023-07-31T05:18:13.407Z"
   },
   {
    "duration": 13,
    "start_time": "2023-07-31T05:18:13.448Z"
   },
   {
    "duration": 27,
    "start_time": "2023-07-31T05:18:13.463Z"
   },
   {
    "duration": 15,
    "start_time": "2023-07-31T05:18:13.492Z"
   },
   {
    "duration": 45,
    "start_time": "2023-07-31T05:18:13.511Z"
   },
   {
    "duration": 15,
    "start_time": "2023-07-31T05:18:13.559Z"
   },
   {
    "duration": 28,
    "start_time": "2023-07-31T05:18:13.576Z"
   },
   {
    "duration": 5,
    "start_time": "2023-07-31T05:18:13.606Z"
   },
   {
    "duration": 40,
    "start_time": "2023-07-31T05:18:13.612Z"
   },
   {
    "duration": 46,
    "start_time": "2023-07-31T05:18:13.654Z"
   },
   {
    "duration": 6,
    "start_time": "2023-07-31T05:18:13.702Z"
   },
   {
    "duration": 90,
    "start_time": "2023-07-31T05:18:13.710Z"
   },
   {
    "duration": 5,
    "start_time": "2023-07-31T05:18:13.802Z"
   },
   {
    "duration": 78,
    "start_time": "2023-07-31T05:18:13.808Z"
   },
   {
    "duration": 95,
    "start_time": "2023-07-31T05:18:13.888Z"
   },
   {
    "duration": 541,
    "start_time": "2023-07-31T05:18:14.032Z"
   },
   {
    "duration": 30472,
    "start_time": "2023-07-31T05:18:14.575Z"
   },
   {
    "duration": 6,
    "start_time": "2023-07-31T05:18:45.050Z"
   },
   {
    "duration": 31244,
    "start_time": "2023-07-31T05:18:45.058Z"
   },
   {
    "duration": 45,
    "start_time": "2023-07-31T05:19:16.304Z"
   },
   {
    "duration": 6,
    "start_time": "2023-07-31T05:19:16.350Z"
   },
   {
    "duration": 46740,
    "start_time": "2023-07-31T05:19:16.358Z"
   },
   {
    "duration": 41,
    "start_time": "2023-07-31T05:20:03.100Z"
   },
   {
    "duration": 20,
    "start_time": "2023-07-31T05:20:03.149Z"
   },
   {
    "duration": 314,
    "start_time": "2023-07-31T05:20:03.174Z"
   }
  ],
  "kernelspec": {
   "display_name": "Python 3 (ipykernel)",
   "language": "python",
   "name": "python3"
  },
  "language_info": {
   "codemirror_mode": {
    "name": "ipython",
    "version": 3
   },
   "file_extension": ".py",
   "mimetype": "text/x-python",
   "name": "python",
   "nbconvert_exporter": "python",
   "pygments_lexer": "ipython3",
   "version": "3.11.2"
  },
  "toc": {
   "base_numbering": 1,
   "nav_menu": {
    "height": "415px",
    "width": "421px"
   },
   "number_sections": true,
   "sideBar": true,
   "skip_h1_title": true,
   "title_cell": "Содержание",
   "title_sidebar": "Contents",
   "toc_cell": true,
   "toc_position": {
    "height": "calc(100% - 180px)",
    "left": "10px",
    "top": "150px",
    "width": "673px"
   },
   "toc_section_display": true,
   "toc_window_display": false
  }
 },
 "nbformat": 4,
 "nbformat_minor": 2
}
